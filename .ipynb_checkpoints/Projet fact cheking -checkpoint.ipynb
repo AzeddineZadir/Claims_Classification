{
 "cells": [
  {
   "cell_type": "markdown",
   "id": "sought-flour",
   "metadata": {},
   "source": [
    "# Projet Data Science HMIN232 - 2020/2021\n",
    "Ce projet a pour but de proposer des modèles de classification supervisée d'assertions faites\n",
    "par des figures politiques selon leur valeur de véracité, ou autrement dit, de proposer une\n",
    "approche de fact-checking automatique.\n",
    "\n",
    "Groupe : "
   ]
  },
  {
   "cell_type": "markdown",
   "id": "overhead-waterproof",
   "metadata": {
    "ExecuteTime": {
     "end_time": "2021-04-22T10:11:53.620449Z",
     "start_time": "2021-04-22T10:11:53.608648Z"
    },
    "heading_collapsed": true
   },
   "source": [
    "## **Installation**"
   ]
  },
  {
   "cell_type": "code",
   "execution_count": 1,
   "id": "turned-twins",
   "metadata": {
    "ExecuteTime": {
     "end_time": "2021-04-22T21:57:10.526927Z",
     "start_time": "2021-04-22T21:57:08.701352Z"
    },
    "hidden": true
   },
   "outputs": [
    {
     "name": "stderr",
     "output_type": "stream",
     "text": [
      "[nltk_data] Downloading package wordnet to /home/silver/nltk_data...\n",
      "[nltk_data]   Package wordnet is already up-to-date!\n",
      "[nltk_data] Downloading package stopwords to /home/silver/nltk_data...\n",
      "[nltk_data]   Package stopwords is already up-to-date!\n",
      "[nltk_data] Downloading package punkt to /home/silver/nltk_data...\n",
      "[nltk_data]   Package punkt is already up-to-date!\n"
     ]
    }
   ],
   "source": [
    "# Importation des différentes librairies, classes et fonctions utilespour le notebook\n",
    "\n",
    "#Sickit learn met régulièrement à jour des versions et \n",
    "#indique des futurs warnings. \n",
    "#ces deux lignes permettent de ne pas les afficher.\n",
    "import warnings\n",
    "warnings.filterwarnings(\"ignore\", category=FutureWarning)\n",
    "\n",
    "\n",
    "# librairies générales\n",
    "import pandas as pd\n",
    "import re\n",
    "from tabulate import tabulate\n",
    "import time\n",
    "import numpy as np\n",
    "import pickle\n",
    "import string\n",
    "import base64\n",
    "\n",
    "# librairie affichage\n",
    "import matplotlib.pyplot as plt\n",
    "import seaborn as sns\n",
    "\n",
    "# librairies scikit learn\n",
    "import sklearn\n",
    "from sklearn.feature_extraction.text import CountVectorizer\n",
    "from sklearn.feature_extraction.text import TfidfVectorizer\n",
    "from sklearn.base import TransformerMixin\n",
    "from sklearn.pipeline import Pipeline\n",
    "from sklearn.model_selection import train_test_split\n",
    "from sklearn import metrics\n",
    "from sklearn.model_selection import cross_val_score\n",
    "from sklearn.metrics import confusion_matrix\n",
    "from sklearn.metrics import classification_report\n",
    "from sklearn.model_selection import KFold\n",
    "from sklearn.model_selection import GridSearchCV\n",
    "from sklearn.metrics import accuracy_score\n",
    "\n",
    "\n",
    "# librairies des classifiers utilisés\n",
    "from sklearn.svm import SVC\n",
    "from sklearn.linear_model import LogisticRegression\n",
    "from sklearn.tree import DecisionTreeClassifier\n",
    "from sklearn.neighbors import KNeighborsClassifier\n",
    "from sklearn.naive_bayes import MultinomialNB\n",
    "from sklearn.ensemble import RandomForestClassifier\n",
    "\n",
    "# librairies NLTK\n",
    "import nltk\n",
    "from nltk.stem import WordNetLemmatizer\n",
    "from nltk.stem import PorterStemmer \n",
    "from nltk.corpus import stopwords\n",
    "from nltk import word_tokenize \n",
    "\n",
    " \n",
    "nltk.download('wordnet')\n",
    "nltk.download('stopwords')\n",
    "nltk.download('punkt')\n",
    "stop_words = set(stopwords.words('english')) \n",
    "\n",
    "    "
   ]
  },
  {
   "cell_type": "code",
   "execution_count": 2,
   "id": "designed-madness",
   "metadata": {
    "ExecuteTime": {
     "end_time": "2021-04-22T21:57:10.535406Z",
     "start_time": "2021-04-22T21:57:10.531960Z"
    },
    "hidden": true
   },
   "outputs": [],
   "source": [
    "# fonctions utilities (affichage, confusion, etc.)\n",
    "from MyNLPUtilities import *\n"
   ]
  },
  {
   "cell_type": "markdown",
   "id": "vocal-brooks",
   "metadata": {
    "heading_collapsed": true
   },
   "source": [
    "## les Données\n",
    "\n",
    "Suite a une analyse des donnés communiqués dans le fichier csv ,nous avons décidé d'utiliser la platforme afin de télécharger les données contenant les valeur de véracités,tout en profitant du fait que ces dérniére sont plus propres que c'elles du fichier csv.\n",
    "\n"
   ]
  },
  {
   "cell_type": "markdown",
   "id": "automotive-mercury",
   "metadata": {
    "heading_collapsed": true
   },
   "source": [
    "## 1 Importation des donnés\n"
   ]
  },
  {
   "cell_type": "code",
   "execution_count": 3,
   "id": "documentary-marker",
   "metadata": {
    "ExecuteTime": {
     "end_time": "2021-04-22T21:57:11.256677Z",
     "start_time": "2021-04-22T21:57:10.537773Z"
    },
    "hidden": true
   },
   "outputs": [
    {
     "name": "stdout",
     "output_type": "stream",
     "text": [
      " le data frame est composé de 24454 lignes et 14 colonnes\n",
      " le data frame est composé de 24452 lignes et 14 colonnes\n",
      "2    10000\n",
      "1    10000\n",
      "3     4452\n",
      "Name: truthRating, dtype: int64\n"
     ]
    },
    {
     "data": {
      "image/png": "[encoded data removed]",
      "text/plain": [
       "<Figure size 432x432 with 1 Axes>"
      ]
     },
     "metadata": {},
     "output_type": "display_data"
    }
   ],
   "source": [
    "import pandas as pd\n",
    "import warnings\n",
    "warnings.filterwarnings(\"ignore\", category=FutureWarning)\n",
    "\n",
    "df = pd.read_csv (r'Rendu/DATASETS/data_sets.csv')\n",
    "row, col = df.shape\n",
    "print(f\" le data frame est composé de {row} lignes et {col} colonnes\")\n",
    "# suppression des lignes qui contiennes les attribus \n",
    "df = df[df['id']!= 'id']\n",
    "row1, col1 = df.shape\n",
    "print(f\" le data frame est composé de {row1} lignes et {col1} colonnes\")\n",
    "df.head()\n",
    "\n",
    "df[\"truthRating\"].value_counts().plot(kind='pie', \n",
    "                                  figsize=(6,6),\n",
    "                                  title='Pie', \n",
    "                                  fontsize=11, \n",
    "                                  legend=True)\n",
    "print(df[\"truthRating\"].value_counts())\n"
   ]
  },
  {
   "cell_type": "markdown",
   "id": "under-annual",
   "metadata": {},
   "source": [
    "## 2 Pré traitement des données \n",
    "explications des étapes de prés traitemens "
   ]
  },
  {
   "cell_type": "markdown",
   "id": "constant-combat",
   "metadata": {},
   "source": [
    "### 2.1 Creation d'une classe de prés traitements \n",
    "\n"
   ]
  },
  {
   "cell_type": "markdown",
   "id": "statutory-pickup",
   "metadata": {},
   "source": [
    "Fonction de préTraitement "
   ]
  },
  {
   "cell_type": "code",
   "execution_count": 4,
   "id": "blessed-explorer",
   "metadata": {
    "ExecuteTime": {
     "end_time": "2021-04-22T21:57:11.353976Z",
     "start_time": "2021-04-22T21:57:11.259156Z"
    }
   },
   "outputs": [
    {
     "name": "stderr",
     "output_type": "stream",
     "text": [
      "[nltk_data] Downloading package wordnet to /home/silver/nltk_data...\n",
      "[nltk_data]   Package wordnet is already up-to-date!\n",
      "[nltk_data] Downloading package stopwords to /home/silver/nltk_data...\n",
      "[nltk_data]   Package stopwords is already up-to-date!\n",
      "[nltk_data] Downloading package punkt to /home/silver/nltk_data...\n",
      "[nltk_data]   Package punkt is already up-to-date!\n"
     ]
    }
   ],
   "source": [
    "import re\n",
    "import string\n",
    "\n",
    "import nltk\n",
    "from nltk.stem import WordNetLemmatizer\n",
    "from nltk.stem import PorterStemmer \n",
    "from nltk.corpus import stopwords\n",
    "from nltk import word_tokenize\n",
    "import inflect\n",
    "import unicodedata\n",
    "\n",
    "nltk.download('wordnet')\n",
    "nltk.download('stopwords')\n",
    "nltk.download('punkt')\n",
    "stop_words = set(stopwords.words('english')) \n",
    "\n",
    "def MyCleanText(X, \n",
    "               lowercase=False, # mettre en minuscule\n",
    "               removestopwords=False, # supprimer les stopwords\n",
    "               removedigit=False, # supprimer les nombres \n",
    "               transformdigit=False,# transformer les nombres en lettrres \n",
    "               getstemmer=False, # conserver la racine des termes\n",
    "               getlemmatisation=False,# lematisation des termes \n",
    "               remove_non_ascii=False,# suppriimer les caractéres_non_ascii\n",
    "              ):\n",
    "    \n",
    "    sentence=str(X)\n",
    "\n",
    "    # suppression des caractères spéciaux\n",
    "    sentence = re.sub(r'[^\\w\\s]',' ', sentence)\n",
    "    # suppression de tous les caractères uniques\n",
    "    sentence = re.sub(r'\\s+[a-zA-Z]\\s+', ' ', sentence)\n",
    "    # substitution des espaces multiples par un seul espace\n",
    "    sentence = re.sub(r'\\s+', ' ', sentence, flags=re.I)\n",
    "\n",
    "    # decoupage en mots\n",
    "    tokens = word_tokenize(sentence)\n",
    "    if lowercase:\n",
    "          tokens = [token.lower() for token in tokens]\n",
    "\n",
    "    # suppression ponctuation\n",
    "    table = str.maketrans('', '', string.punctuation)\n",
    "    words = [token.translate(table) for token in tokens]\n",
    "\n",
    "    # suppression des tokens non alphabetique ou numerique\n",
    "    words = [word for word in words if word.isalnum()]\n",
    "    \n",
    "    # suppression des tokens numerique\n",
    "    if removedigit:\n",
    "        words = [word for word in words if not word.isdigit()]\n",
    "    # transformert les nombres en lettres \n",
    "    if transformdigit:\n",
    "        p = inflect.engine()\n",
    "        new_words = []\n",
    "        for word in words:\n",
    "            if word.isdigit():\n",
    "                new_word = p.number_to_words(word)\n",
    "                new_words.append(new_word)\n",
    "            else:\n",
    "                new_words.append(word)\n",
    "                \n",
    "        words = new_words\n",
    "        \n",
    "        \n",
    "        \n",
    "    # suppression des stopwords\n",
    "    if removestopwords:\n",
    "        words = [word for word in words if not word in stop_words]\n",
    "\n",
    "    # lemmatisation\n",
    "    if getlemmatisation:\n",
    "        lemmatizer=WordNetLemmatizer()\n",
    "        words = [lemmatizer.lemmatize(word)for word in words]\n",
    "        \n",
    "\n",
    "    # racinisation\n",
    "    if getstemmer:\n",
    "        ps = PorterStemmer()\n",
    "        words=[ps.stem(word) for word in words]\n",
    "        \n",
    "    sentence= ' '.join(words)\n",
    "    \n",
    "    # suppression des caractéres non ascii\n",
    "    if remove_non_ascii:\n",
    "        new_words = []\n",
    "        for word in words:\n",
    "            new_word = unicodedata.normalize('NFKD', word).encode('ascii', 'ignore').decode('utf-8', 'ignore')\n",
    "            new_words.append(new_word)\n",
    "        words = new_words \n",
    "    \n",
    "    \n",
    "    \n",
    "    return sentence   "
   ]
  },
  {
   "cell_type": "code",
   "execution_count": 5,
   "id": "transsexual-parameter",
   "metadata": {
    "ExecuteTime": {
     "end_time": "2021-04-22T21:57:11.371908Z",
     "start_time": "2021-04-22T21:57:11.356197Z"
    }
   },
   "outputs": [],
   "source": [
    "from sklearn.base import BaseEstimator, TransformerMixin\n",
    "\n",
    "class TextNormalizer(BaseEstimator, TransformerMixin):\n",
    "    def __init__(self, \n",
    "                 removestopwords=False, # suppression des stopwords\n",
    "                 lowercase=False,# passage en minuscule\n",
    "                 removedigit=False, # supprimer les nombres \n",
    "                 transformdigit=False, # transforamation des chiffre en lettres\n",
    "                 getstemmer=False,# racinisation des termes \n",
    "                 getlemmatisation=False, # lemmatisation des termes \n",
    "                 remove_non_ascii=False # supprimer les caractéres non ascii\n",
    "                ):\n",
    "        \n",
    "        self.lowercase=lowercase\n",
    "        self.getstemmer=getstemmer\n",
    "        self.removestopwords=removestopwords\n",
    "        self.getlemmatisation=getlemmatisation\n",
    "        self.removedigit=removedigit\n",
    "        self.transformdigit=transformdigit\n",
    "        self.remove_non_ascii=remove_non_ascii\n",
    "\n",
    "    def transform(self, X, **transform_params):\n",
    "        # Nettoyage du texte\n",
    "        X=X.copy() # pour conserver le fichier d'origine\n",
    "        return [MyCleanText(text,lowercase=self.lowercase,\n",
    "                            getstemmer=self.getstemmer,\n",
    "                            removestopwords=self.removestopwords,\n",
    "                            getlemmatisation=self.getlemmatisation,\n",
    "                            removedigit=self.removedigit,\n",
    "                            transformdigit=self.transformdigit,\n",
    "                            remove_non_ascii=self.remove_non_ascii) for text in X]\n",
    "\n",
    "    def fit(self, X, y=None, **fit_params):\n",
    "        return self\n",
    "    \n",
    "    def fit_transform(self, X, y=None, **fit_params):\n",
    "        return self.fit(X).transform(X)\n",
    "\n",
    "    def get_params(self, deep=True):\n",
    "        return {\n",
    "            'lowercase':self.lowercase,\n",
    "            'getstemmer':self.getstemmer,\n",
    "            'removestopwords':self.removestopwords,\n",
    "            'getlemmatisation':self.getlemmatisation,\n",
    "            'removedigit':self.removedigit,\n",
    "            'transformdigit':self.transformdigit,\n",
    "            'remove_non_ascii':self.remove_non_ascii\n",
    "        }    \n",
    "    \n",
    "    def set_params (self, **parameters):\n",
    "        for parameter, value in parameters.items():\n",
    "            setattr(self,parameter,value)\n",
    "        return self    \n"
   ]
  },
  {
   "cell_type": "code",
   "execution_count": null,
   "id": "seeing-sheriff",
   "metadata": {
    "ExecuteTime": {
     "end_time": "2021-04-22T10:27:58.451226Z",
     "start_time": "2021-04-22T10:27:58.387253Z"
    }
   },
   "outputs": [],
   "source": []
  },
  {
   "cell_type": "markdown",
   "id": "focal-pound",
   "metadata": {},
   "source": [
    "### 2.2 Sépartion en diffenrents data frame selon les classes "
   ]
  },
  {
   "cell_type": "code",
   "execution_count": 6,
   "id": "aging-gibson",
   "metadata": {
    "ExecuteTime": {
     "end_time": "2021-04-22T21:57:11.429608Z",
     "start_time": "2021-04-22T21:57:11.374637Z"
    }
   },
   "outputs": [
    {
     "name": "stdout",
     "output_type": "stream",
     "text": [
      "1    10000\n",
      "3     4452\n",
      "Name: truthRating, dtype: int64\n",
      "1    14452\n",
      "0    10000\n",
      "Name: truthRating, dtype: int64\n",
      "2    10000\n",
      "1    10000\n",
      "3     4452\n",
      "Name: truthRating, dtype: int64\n"
     ]
    }
   ],
   "source": [
    "# vrai / faux \n",
    "dfVF= df.copy()\n",
    "dfVF = dfVF[dfVF[\"truthRating\"] != '2']\n",
    "print(dfVF[\"truthRating\"].value_counts())\n",
    "\n",
    "#vair,faux / mixture\n",
    "dfVF_M= df.copy()\n",
    "dfVF_M['truthRating'] =dfVF_M['truthRating'].apply(lambda x: '1' if x == '1' or x == '3' else '0')\n",
    "print(dfVF_M[\"truthRating\"].value_counts())\n",
    "\n",
    "\n",
    "#vrai / faux / mixture\n",
    "dfVFM=df.copy()\n",
    "print(dfVFM[\"truthRating\"].value_counts())"
   ]
  },
  {
   "cell_type": "markdown",
   "id": "consolidated-following",
   "metadata": {
    "ExecuteTime": {
     "end_time": "2021-04-22T18:02:53.063196Z",
     "start_time": "2021-04-22T18:02:53.059648Z"
    }
   },
   "source": [
    "## Tache 1 :  VRAIS / FAUX"
   ]
  },
  {
   "cell_type": "markdown",
   "id": "normal-label",
   "metadata": {
    "ExecuteTime": {
     "end_time": "2021-04-22T18:05:05.109349Z",
     "start_time": "2021-04-22T18:05:05.104472Z"
    },
    "heading_collapsed": true
   },
   "source": [
    "## Tache 2 : VRAIS, FAUX / MIXTURE"
   ]
  },
  {
   "cell_type": "markdown",
   "id": "lucky-marathon",
   "metadata": {},
   "source": [
    "## Tache 3 : VRAIS / FAUX / MIXTURE"
   ]
  },
  {
   "cell_type": "markdown",
   "id": "casual-security",
   "metadata": {},
   "source": [
    "## 3 Classification\n",
    "\n",
    "\n",
    "\n",
    "\n"
   ]
  },
  {
   "cell_type": "markdown",
   "id": "demanding-april",
   "metadata": {},
   "source": [
    "### 3.1 Creation de pipline "
   ]
  },
  {
   "cell_type": "markdown",
   "id": "nuclear-thesis",
   "metadata": {},
   "source": [
    "nous testeon l'utilisation du pipline avec SVM comme classifieur sur  la colonne texte sans aucun prétraitement "
   ]
  },
  {
   "cell_type": "code",
   "execution_count": 7,
   "id": "multiple-defendant",
   "metadata": {
    "ExecuteTime": {
     "end_time": "2021-04-22T21:57:30.238951Z",
     "start_time": "2021-04-22T21:57:11.433684Z"
    }
   },
   "outputs": [
    {
     "name": "stdout",
     "output_type": "stream",
     "text": [
      "pipeline créé\n"
     ]
    }
   ],
   "source": [
    "from sklearn.svm import SVC\n",
    "from sklearn.model_selection import train_test_split\n",
    "\n",
    "X=dfVF.text\n",
    "y=dfVF.truthRating\n",
    "\n",
    "# Création d'un jeu d'apprentissage et de test\n",
    "trainsize=0.7 # 70% pour le jeu d'apprentissage, il reste 30% du jeu de données pour le test\n",
    "\n",
    "testsize= 0.3\n",
    "seed=30\n",
    "X_train,X_test,y_train,y_test=train_test_split(X, \n",
    "                                               y, \n",
    "                                               train_size=trainsize, \n",
    "                                               random_state=seed,\n",
    "                                               test_size=testsize)\n",
    "\n",
    "# création du pipeline en ajoutant le classifier sans aucun préstraitement\n",
    "pipe = Pipeline([(\"cleaner\", TextNormalizer()),\n",
    "                 (\"count_vectorizer\", CountVectorizer()),\n",
    "                 (\"SVM\", SVC())])\n",
    "pipe.fit(X_train,y_train)\n",
    "\n",
    "print(\"pipeline créé\")"
   ]
  },
  {
   "cell_type": "markdown",
   "id": "proved-gamma",
   "metadata": {},
   "source": [
    "**La prédiction** "
   ]
  },
  {
   "cell_type": "code",
   "execution_count": 8,
   "id": "dental-component",
   "metadata": {
    "ExecuteTime": {
     "end_time": "2021-04-22T21:57:36.815185Z",
     "start_time": "2021-04-22T21:57:30.242145Z"
    },
    "scrolled": false
   },
   "outputs": [
    {
     "name": "stdout",
     "output_type": "stream",
     "text": [
      "Accuracy : 0.726\n",
      "Classification Report\n",
      "              precision    recall  f1-score   support\n",
      "\n",
      "           1    0.73362   0.95631   0.83029      3044\n",
      "           3    0.63859   0.18189   0.28313      1292\n",
      "\n",
      "    accuracy                        0.72555      4336\n",
      "   macro avg    0.68610   0.56910   0.55671      4336\n",
      "weighted avg    0.70530   0.72555   0.66725      4336\n",
      "\n"
     ]
    },
    {
     "data": {
      "image/png": "[encoded data removed]",
      "text/plain": [
       "<Figure size 576x360 with 2 Axes>"
      ]
     },
     "metadata": {},
     "output_type": "display_data"
    }
   ],
   "source": [
    "y_pred = pipe.predict(X_test)\n",
    "\n",
    "MyshowAllScores(y_test,y_pred)"
   ]
  },
  {
   "cell_type": "code",
   "execution_count": 12,
   "id": "juvenile-astrology",
   "metadata": {
    "ExecuteTime": {
     "end_time": "2021-04-22T22:30:25.350033Z",
     "start_time": "2021-04-22T22:30:25.346142Z"
    },
    "scrolled": true
   },
   "outputs": [],
   "source": [
    "# pipeline de l'utilisation de CountVectorizer sur le texte presque sans traitement\n",
    "CV_brut = Pipeline([(\"cleaner\", TextNormalizer(removestopwords=False,lowercase=False,\n",
    "                                               getstemmer=False,removedigit=False)), \n",
    "                    (\"count_vectorizer\", CountVectorizer(lowercase=False)),\n",
    "                    (\"SVM\", SVC())])\n",
    "\n",
    "# pipeline de l'utilisation de TfidfVectorizer sur le texte presque sans traitement\n",
    "TFIDF_brut = Pipeline ([(\"cleaner\", TextNormalizer(removestopwords=False,lowercase=Flase,\n",
    "                                               getstemmer=False,removedigit=False)), \n",
    "                    (\"count_vectorizer\", TfidfVectorizer(lowercase=False)),\n",
    "                    (\"SVM\", SVC())])\n",
    "\n",
    "# Liste de tous les modèles à tester\n",
    "all_models = [\n",
    "    (\"CV_brut\", CV_brut),\n",
    "    (\"TFIDF_brut\", TFIDF_brut)\n",
    "]\n",
    "\n",
    "\n",
    "from sklearn.model_selection import cross_val_score\n",
    "\n",
    "\n",
    "# Evaluation des différents pipelines\n",
    "unsorted_scores = [(name, cross_val_score(model, X, y, cv=5).mean()) for name, model in all_models]\n",
    "scores = sorted(unsorted_scores, key=lambda x: -x[1])\n",
    "\n",
    "\n",
    "print (tabulate(scores, floatfmt=\".3f\", headers=(\"Pipeline\", 'Score')))\n"
   ]
  },
  {
   "cell_type": "code",
   "execution_count": 13,
   "id": "crucial-nursing",
   "metadata": {
    "ExecuteTime": {
     "end_time": "2021-04-22T22:30:30.151051Z",
     "start_time": "2021-04-22T22:30:30.138447Z"
    }
   },
   "outputs": [
    {
     "ename": "SyntaxError",
     "evalue": "unexpected EOF while parsing (<ipython-input-13-39dad95781f3>, line 5)",
     "output_type": "error",
     "traceback": [
      "\u001b[0;36m  File \u001b[0;32m\"<ipython-input-13-39dad95781f3>\"\u001b[0;36m, line \u001b[0;32m5\u001b[0m\n\u001b[0;31m    (\"SVM\", SVC())]\u001b[0m\n\u001b[0m                   ^\u001b[0m\n\u001b[0;31mSyntaxError\u001b[0m\u001b[0;31m:\u001b[0m unexpected EOF while parsing\n"
     ]
    }
   ],
   "source": [
    "# pipeline de l'utilisation de TfidfVectorizer sur le texte presque sans traitement\n",
    "TFIDF_brut = Pipeline ([(\"cleaner\", TextNormalizer(removestopwords=False,lowercase=True,\n",
    "                                               getstemmer=False,removedigit=False)), \n",
    "                    (\"count_vectorizer\", TfidfVectorizer(lowercase=False)),\n",
    "                    (\"SVM\", SVC())]"
   ]
  },
  {
   "cell_type": "code",
   "execution_count": null,
   "id": "perfect-steam",
   "metadata": {
    "ExecuteTime": {
     "end_time": "2021-04-22T21:57:36.826021Z",
     "start_time": "2021-04-22T21:57:08.723Z"
    }
   },
   "outputs": [],
   "source": [
    "# Liste de tous les modèles à tester\n",
    "all_models = [\n",
    "    (\"CV_brut\", CV_brut),\n",
    "    (\"TFIDF_brut\", TFIDF_brut)\n",
    "]\n",
    "\n",
    "\n",
    "from sklearn.model_selection import cross_val_score\n",
    "\n",
    "\n",
    "# Evaluation des différents pipelines\n",
    "unsorted_scores = [(name, cross_val_score(model, X, y, cv=5).mean()) for name, model in all_models]\n",
    "scores = sorted(unsorted_scores, key=lambda x: -x[1])\n",
    "\n",
    "\n",
    "print (tabulate(scores, floatfmt=\".3f\", headers=(\"Pipeline\", 'Score')))\n"
   ]
  },
  {
   "cell_type": "code",
   "execution_count": null,
   "id": "corrected-memorial",
   "metadata": {},
   "outputs": [],
   "source": []
  },
  {
   "cell_type": "code",
   "execution_count": null,
   "id": "available-incentive",
   "metadata": {},
   "outputs": [],
   "source": []
  },
  {
   "cell_type": "code",
   "execution_count": null,
   "id": "velvet-usage",
   "metadata": {},
   "outputs": [],
   "source": []
  },
  {
   "cell_type": "code",
   "execution_count": null,
   "id": "annoying-ethiopia",
   "metadata": {},
   "outputs": [],
   "source": []
  }
 ],
 "metadata": {
  "kernelspec": {
   "display_name": "Python 3",
   "language": "python",
   "name": "python3"
  },
  "language_info": {
   "codemirror_mode": {
    "name": "ipython",
    "version": 3
   },
   "file_extension": ".py",
   "mimetype": "text/x-python",
   "name": "python",
   "nbconvert_exporter": "python",
   "pygments_lexer": "ipython3",
   "version": "3.8.8"
  }
 },
 "nbformat": 4,
 "nbformat_minor": 5
}
