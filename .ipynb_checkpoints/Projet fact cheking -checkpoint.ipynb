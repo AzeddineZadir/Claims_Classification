{
 "cells": [
  {
   "cell_type": "markdown",
   "id": "sought-flour",
   "metadata": {},
   "source": [
    "# Projet Data Science HMIN232 - 2020/2021\n",
    "Ce projet a pour but de proposer des modèles de classification supervisée d'assertions faites\n",
    "par des figures politiques selon leur valeur de véracité, ou autrement dit, de proposer une\n",
    "approche de fact-checking automatique.\n",
    "\n",
    "Groupe : "
   ]
  },
  {
   "cell_type": "markdown",
   "id": "overhead-waterproof",
   "metadata": {
    "ExecuteTime": {
     "end_time": "2021-04-22T10:11:53.620449Z",
     "start_time": "2021-04-22T10:11:53.608648Z"
    }
   },
   "source": [
    "## **Installation**"
   ]
  },
  {
   "cell_type": "code",
   "execution_count": 1,
   "id": "turned-twins",
   "metadata": {
    "ExecuteTime": {
     "end_time": "2021-05-09T13:15:47.743043Z",
     "start_time": "2021-05-09T13:15:45.783738Z"
    }
   },
   "outputs": [
    {
     "name": "stderr",
     "output_type": "stream",
     "text": [
      "[nltk_data] Downloading package wordnet to /home/silver/nltk_data...\n",
      "[nltk_data]   Package wordnet is already up-to-date!\n",
      "[nltk_data] Downloading package stopwords to /home/silver/nltk_data...\n",
      "[nltk_data]   Package stopwords is already up-to-date!\n",
      "[nltk_data] Downloading package punkt to /home/silver/nltk_data...\n",
      "[nltk_data]   Package punkt is already up-to-date!\n"
     ]
    }
   ],
   "source": [
    "# Importation des différentes librairies, classes et fonctions utilespour le notebook\n",
    "\n",
    "#Sickit learn met régulièrement à jour des versions et \n",
    "#indique des futurs warnings. \n",
    "#ces deux lignes permettent de ne pas les afficher.\n",
    "import warnings\n",
    "warnings.filterwarnings(\"ignore\", category=FutureWarning)\n",
    "\n",
    "\n",
    "# librairies générales\n",
    "import pandas as pd\n",
    "import re\n",
    "from tabulate import tabulate\n",
    "import time\n",
    "import numpy as np\n",
    "import pickle\n",
    "import string\n",
    "import base64\n",
    "\n",
    "# librairie affichage\n",
    "import matplotlib.pyplot as plt\n",
    "import seaborn as sns\n",
    "\n",
    "# librairies scikit learn\n",
    "import sklearn\n",
    "from sklearn.feature_extraction.text import CountVectorizer\n",
    "from sklearn.feature_extraction.text import TfidfVectorizer\n",
    "from sklearn.base import TransformerMixin\n",
    "from sklearn.pipeline import Pipeline\n",
    "from sklearn.model_selection import train_test_split\n",
    "from sklearn import metrics\n",
    "from sklearn.model_selection import cross_val_score\n",
    "from sklearn.metrics import confusion_matrix\n",
    "from sklearn.metrics import classification_report\n",
    "from sklearn.model_selection import KFold\n",
    "from sklearn.model_selection import GridSearchCV\n",
    "from sklearn.metrics import accuracy_score\n",
    "\n",
    "\n",
    "# librairies des classifiers utilisés\n",
    "from sklearn.svm import SVC\n",
    "from sklearn.linear_model import LogisticRegression\n",
    "from sklearn.tree import DecisionTreeClassifier\n",
    "from sklearn.neighbors import KNeighborsClassifier\n",
    "from sklearn.naive_bayes import MultinomialNB\n",
    "from sklearn.ensemble import RandomForestClassifier\n",
    "\n",
    "# librairies NLTK\n",
    "import nltk\n",
    "from nltk.stem import WordNetLemmatizer\n",
    "from nltk.stem import PorterStemmer \n",
    "from nltk.corpus import stopwords\n",
    "from nltk import word_tokenize \n",
    "\n",
    " \n",
    "nltk.download('wordnet')\n",
    "nltk.download('stopwords')\n",
    "nltk.download('punkt')\n",
    "stop_words = set(stopwords.words('english')) \n",
    "\n",
    "    "
   ]
  },
  {
   "cell_type": "code",
   "execution_count": 2,
   "id": "designed-madness",
   "metadata": {
    "ExecuteTime": {
     "end_time": "2021-05-09T13:15:47.751537Z",
     "start_time": "2021-05-09T13:15:47.745843Z"
    }
   },
   "outputs": [],
   "source": [
    "# fonctions utilities (affichage, confusion, etc.)\n",
    "from MyNLPUtilities import *\n"
   ]
  },
  {
   "cell_type": "markdown",
   "id": "vocal-brooks",
   "metadata": {
    "heading_collapsed": true
   },
   "source": [
    "## les Données\n",
    "\n",
    "Suite a une analyse des donnés communiqués dans le fichier csv ,nous avons décidé d'utiliser la platforme afin de télécharger les données contenant les valeur de véracités,tout en profitant du fait que ces dérniére sont plus propres que c'elles du fichier csv.\n",
    "\n"
   ]
  },
  {
   "cell_type": "markdown",
   "id": "automotive-mercury",
   "metadata": {},
   "source": [
    "## 1 Importation des donnés\n"
   ]
  },
  {
   "cell_type": "code",
   "execution_count": 3,
   "id": "documentary-marker",
   "metadata": {
    "ExecuteTime": {
     "end_time": "2021-05-09T13:15:48.514347Z",
     "start_time": "2021-05-09T13:15:47.753496Z"
    }
   },
   "outputs": [
    {
     "name": "stdout",
     "output_type": "stream",
     "text": [
      " le data frame est composé de 24454 lignes et 14 colonnes\n",
      " le data frame est composé de 24452 lignes et 14 colonnes\n",
      "2    10000\n",
      "1    10000\n",
      "3     4452\n",
      "Name: truthRating, dtype: int64\n"
     ]
    },
    {
     "data": {
      "text/html": [
       "<div>\n",
       "<style scoped>\n",
       "    .dataframe tbody tr th:only-of-type {\n",
       "        vertical-align: middle;\n",
       "    }\n",
       "\n",
       "    .dataframe tbody tr th {\n",
       "        vertical-align: top;\n",
       "    }\n",
       "\n",
       "    .dataframe thead th {\n",
       "        text-align: right;\n",
       "    }\n",
       "</style>\n",
       "<table border=\"1\" class=\"dataframe\">\n",
       "  <thead>\n",
       "    <tr style=\"text-align: right;\">\n",
       "      <th></th>\n",
       "      <th>id</th>\n",
       "      <th>text</th>\n",
       "      <th>date</th>\n",
       "      <th>truthRating</th>\n",
       "      <th>ratingName</th>\n",
       "      <th>author</th>\n",
       "      <th>headline</th>\n",
       "      <th>named_entities_claim</th>\n",
       "      <th>named_entities_article</th>\n",
       "      <th>keywords</th>\n",
       "      <th>source</th>\n",
       "      <th>sourceURL</th>\n",
       "      <th>link</th>\n",
       "      <th>language</th>\n",
       "    </tr>\n",
       "  </thead>\n",
       "  <tbody>\n",
       "    <tr>\n",
       "      <th>0</th>\n",
       "      <td>http://data.gesis.org/claimskg/claim_review/36...</td>\n",
       "      <td>'There will be no public funding for abortion ...</td>\n",
       "      <td>2010-03-21</td>\n",
       "      <td>3</td>\n",
       "      <td>TRUE</td>\n",
       "      <td>Bart Stupak</td>\n",
       "      <td>Stupak revises abortion stance on health care ...</td>\n",
       "      <td>Abortion rights,Barack Obama,Bart Stupak,Ben N...</td>\n",
       "      <td>abortion</td>\n",
       "      <td>Abortion,Health Care</td>\n",
       "      <td>politifact</td>\n",
       "      <td>http://www.politifact.com</td>\n",
       "      <td>http://www.politifact.com/truth-o-meter/statem...</td>\n",
       "      <td>English</td>\n",
       "    </tr>\n",
       "    <tr>\n",
       "      <th>1</th>\n",
       "      <td>http://data.gesis.org/claimskg/claim_review/e6...</td>\n",
       "      <td>Central Health 'is the only hospital district ...</td>\n",
       "      <td>2011-03-15</td>\n",
       "      <td>3</td>\n",
       "      <td>TRUE</td>\n",
       "      <td>Wayne Christian</td>\n",
       "      <td>State Rep. Wayne Christian says Central Health...</td>\n",
       "      <td>Austin American-Statesman,Harris County Hospit...</td>\n",
       "      <td>NaN</td>\n",
       "      <td>Abortion</td>\n",
       "      <td>politifact</td>\n",
       "      <td>http://www.politifact.com</td>\n",
       "      <td>http://www.politifact.com/texas/statements/201...</td>\n",
       "      <td>English</td>\n",
       "    </tr>\n",
       "    <tr>\n",
       "      <th>2</th>\n",
       "      <td>http://data.gesis.org/claimskg/claim_review/e0...</td>\n",
       "      <td>Says most of Perry's chiefs of staff have been...</td>\n",
       "      <td>2010-08-14</td>\n",
       "      <td>3</td>\n",
       "      <td>TRUE</td>\n",
       "      <td>Bill White</td>\n",
       "      <td>Bill White says most of Gov. Rick Perry's chie...</td>\n",
       "      <td>AT&amp;T,Bill Clements,Bill White,Bracewell &amp; Giul...</td>\n",
       "      <td>NaN</td>\n",
       "      <td>Ethics</td>\n",
       "      <td>politifact</td>\n",
       "      <td>http://www.politifact.com</td>\n",
       "      <td>http://www.politifact.com/texas/statements/201...</td>\n",
       "      <td>English</td>\n",
       "    </tr>\n",
       "    <tr>\n",
       "      <th>3</th>\n",
       "      <td>http://data.gesis.org/claimskg/claim_review/48...</td>\n",
       "      <td>Says 'as Co-Chair of the Joint Ways &amp; Means Co...</td>\n",
       "      <td>2012-09-28</td>\n",
       "      <td>3</td>\n",
       "      <td>TRUE</td>\n",
       "      <td>Mary Nolan</td>\n",
       "      <td>Did Mary Nolan secure funding for Milwaukie br...</td>\n",
       "      <td>Carolyn Tomei,Dave Hunt,Fetsch,Jeff Merkley,Ka...</td>\n",
       "      <td>Portland-Milwaukie Light Rail project</td>\n",
       "      <td>State Budget,State Finances,Transportation</td>\n",
       "      <td>politifact</td>\n",
       "      <td>http://www.politifact.com</td>\n",
       "      <td>http://www.politifact.com/oregon/statements/20...</td>\n",
       "      <td>English</td>\n",
       "    </tr>\n",
       "    <tr>\n",
       "      <th>4</th>\n",
       "      <td>http://data.gesis.org/claimskg/claim_review/80...</td>\n",
       "      <td>Says Gary Farmer’s claim that he 'received an ...</td>\n",
       "      <td>2016-07-08</td>\n",
       "      <td>3</td>\n",
       "      <td>TRUE</td>\n",
       "      <td>Jim Waldman</td>\n",
       "      <td>Florida Senate candidate never actually receiv...</td>\n",
       "      <td>Gary Farmer,Gwyndolen Clarke-Reed,Jim Waldman,...</td>\n",
       "      <td>Gary Farmer</td>\n",
       "      <td>Guns</td>\n",
       "      <td>politifact</td>\n",
       "      <td>http://www.politifact.com</td>\n",
       "      <td>http://www.politifact.com/florida/statements/2...</td>\n",
       "      <td>English</td>\n",
       "    </tr>\n",
       "    <tr>\n",
       "      <th>...</th>\n",
       "      <td>...</td>\n",
       "      <td>...</td>\n",
       "      <td>...</td>\n",
       "      <td>...</td>\n",
       "      <td>...</td>\n",
       "      <td>...</td>\n",
       "      <td>...</td>\n",
       "      <td>...</td>\n",
       "      <td>...</td>\n",
       "      <td>...</td>\n",
       "      <td>...</td>\n",
       "      <td>...</td>\n",
       "      <td>...</td>\n",
       "      <td>...</td>\n",
       "    </tr>\n",
       "    <tr>\n",
       "      <th>24449</th>\n",
       "      <td>http://data.gesis.org/claimskg/claim_review/41...</td>\n",
       "      <td>'The city that I was mayor of was 50 percent L...</td>\n",
       "      <td>2018-06-07</td>\n",
       "      <td>2</td>\n",
       "      <td>MIXTURE</td>\n",
       "      <td>Lou Barletta</td>\n",
       "      <td>Hazleton wasn’t half-Latino when Lou Barletta ...</td>\n",
       "      <td>Barletta,Bob Casey,Fox Business Network,Hazlet...</td>\n",
       "      <td>Latino</td>\n",
       "      <td>Immigration</td>\n",
       "      <td>politifact</td>\n",
       "      <td>http://www.politifact.com</td>\n",
       "      <td>http://www.politifact.com/pennsylvania/stateme...</td>\n",
       "      <td>English</td>\n",
       "    </tr>\n",
       "    <tr>\n",
       "      <th>24450</th>\n",
       "      <td>http://data.gesis.org/claimskg/claim_review/9e...</td>\n",
       "      <td>A set of images show a congenital anomaly that...</td>\n",
       "      <td>Unknown</td>\n",
       "      <td>2</td>\n",
       "      <td>MIXTURE</td>\n",
       "      <td>Unknown</td>\n",
       "      <td>Is This a Real Hand With Eight Fingers?</td>\n",
       "      <td>American Society for Surgery of the Hand,Bilas...</td>\n",
       "      <td>NaN</td>\n",
       "      <td>hands, Medical, medical anomalies, mirror hand</td>\n",
       "      <td>snopes</td>\n",
       "      <td>http://www.snopes.com</td>\n",
       "      <td>https://www.snopes.com/fact-check/real-hand-ei...</td>\n",
       "      <td>English</td>\n",
       "    </tr>\n",
       "    <tr>\n",
       "      <th>24451</th>\n",
       "      <td>http://data.gesis.org/claimskg/claim_review/1a...</td>\n",
       "      <td>'You see 34 people (are) murdered every single...</td>\n",
       "      <td>2012-12-23</td>\n",
       "      <td>2</td>\n",
       "      <td>MIXTURE</td>\n",
       "      <td>Cory Booker</td>\n",
       "      <td>Cory Booker says 34 Americans are killed by gu...</td>\n",
       "      <td>ABC,Centers for Disease Control and Prevention...</td>\n",
       "      <td>NaN</td>\n",
       "      <td>Crime,Guns</td>\n",
       "      <td>politifact</td>\n",
       "      <td>http://www.politifact.com</td>\n",
       "      <td>http://www.politifact.com/new-jersey/statement...</td>\n",
       "      <td>English</td>\n",
       "    </tr>\n",
       "    <tr>\n",
       "      <th>24452</th>\n",
       "      <td>http://data.gesis.org/claimskg/claim_review/28...</td>\n",
       "      <td>'White men have committed more mass shootings ...</td>\n",
       "      <td>2017-10-02</td>\n",
       "      <td>2</td>\n",
       "      <td>MIXTURE</td>\n",
       "      <td>Newsweek</td>\n",
       "      <td>Are white males responsible for more mass shoo...</td>\n",
       "      <td>2015 San Bernardino shooting,Aurora, Colo,Foll...</td>\n",
       "      <td>NaN</td>\n",
       "      <td>Guns</td>\n",
       "      <td>politifact</td>\n",
       "      <td>http://www.politifact.com</td>\n",
       "      <td>http://www.politifact.com/punditfact/statement...</td>\n",
       "      <td>English</td>\n",
       "    </tr>\n",
       "    <tr>\n",
       "      <th>24453</th>\n",
       "      <td>http://data.gesis.org/claimskg/claim_review/e4...</td>\n",
       "      <td>Under President Obama’s health-care reforms, t...</td>\n",
       "      <td>2013-12-05</td>\n",
       "      <td>2</td>\n",
       "      <td>MIXTURE</td>\n",
       "      <td>Ron Johnson</td>\n",
       "      <td>Under Obamacare, health insurance premiums hav...</td>\n",
       "      <td>2008 presidential campaign,Affordable Care Act...</td>\n",
       "      <td>NaN</td>\n",
       "      <td>Corporations,Economy,Health Care,Public Health...</td>\n",
       "      <td>politifact</td>\n",
       "      <td>http://www.politifact.com</td>\n",
       "      <td>http://www.politifact.com/wisconsin/statements...</td>\n",
       "      <td>English</td>\n",
       "    </tr>\n",
       "  </tbody>\n",
       "</table>\n",
       "<p>24452 rows × 14 columns</p>\n",
       "</div>"
      ],
      "text/plain": [
       "                                                      id  \\\n",
       "0      http://data.gesis.org/claimskg/claim_review/36...   \n",
       "1      http://data.gesis.org/claimskg/claim_review/e6...   \n",
       "2      http://data.gesis.org/claimskg/claim_review/e0...   \n",
       "3      http://data.gesis.org/claimskg/claim_review/48...   \n",
       "4      http://data.gesis.org/claimskg/claim_review/80...   \n",
       "...                                                  ...   \n",
       "24449  http://data.gesis.org/claimskg/claim_review/41...   \n",
       "24450  http://data.gesis.org/claimskg/claim_review/9e...   \n",
       "24451  http://data.gesis.org/claimskg/claim_review/1a...   \n",
       "24452  http://data.gesis.org/claimskg/claim_review/28...   \n",
       "24453  http://data.gesis.org/claimskg/claim_review/e4...   \n",
       "\n",
       "                                                    text        date  \\\n",
       "0      'There will be no public funding for abortion ...  2010-03-21   \n",
       "1      Central Health 'is the only hospital district ...  2011-03-15   \n",
       "2      Says most of Perry's chiefs of staff have been...  2010-08-14   \n",
       "3      Says 'as Co-Chair of the Joint Ways & Means Co...  2012-09-28   \n",
       "4      Says Gary Farmer’s claim that he 'received an ...  2016-07-08   \n",
       "...                                                  ...         ...   \n",
       "24449  'The city that I was mayor of was 50 percent L...  2018-06-07   \n",
       "24450  A set of images show a congenital anomaly that...     Unknown   \n",
       "24451  'You see 34 people (are) murdered every single...  2012-12-23   \n",
       "24452  'White men have committed more mass shootings ...  2017-10-02   \n",
       "24453  Under President Obama’s health-care reforms, t...  2013-12-05   \n",
       "\n",
       "      truthRating ratingName           author  \\\n",
       "0               3       TRUE      Bart Stupak   \n",
       "1               3       TRUE  Wayne Christian   \n",
       "2               3       TRUE       Bill White   \n",
       "3               3       TRUE       Mary Nolan   \n",
       "4               3       TRUE      Jim Waldman   \n",
       "...           ...        ...              ...   \n",
       "24449           2    MIXTURE     Lou Barletta   \n",
       "24450           2    MIXTURE          Unknown   \n",
       "24451           2    MIXTURE      Cory Booker   \n",
       "24452           2    MIXTURE         Newsweek   \n",
       "24453           2    MIXTURE      Ron Johnson   \n",
       "\n",
       "                                                headline  \\\n",
       "0      Stupak revises abortion stance on health care ...   \n",
       "1      State Rep. Wayne Christian says Central Health...   \n",
       "2      Bill White says most of Gov. Rick Perry's chie...   \n",
       "3      Did Mary Nolan secure funding for Milwaukie br...   \n",
       "4      Florida Senate candidate never actually receiv...   \n",
       "...                                                  ...   \n",
       "24449  Hazleton wasn’t half-Latino when Lou Barletta ...   \n",
       "24450            Is This a Real Hand With Eight Fingers?   \n",
       "24451  Cory Booker says 34 Americans are killed by gu...   \n",
       "24452  Are white males responsible for more mass shoo...   \n",
       "24453  Under Obamacare, health insurance premiums hav...   \n",
       "\n",
       "                                    named_entities_claim  \\\n",
       "0      Abortion rights,Barack Obama,Bart Stupak,Ben N...   \n",
       "1      Austin American-Statesman,Harris County Hospit...   \n",
       "2      AT&T,Bill Clements,Bill White,Bracewell & Giul...   \n",
       "3      Carolyn Tomei,Dave Hunt,Fetsch,Jeff Merkley,Ka...   \n",
       "4      Gary Farmer,Gwyndolen Clarke-Reed,Jim Waldman,...   \n",
       "...                                                  ...   \n",
       "24449  Barletta,Bob Casey,Fox Business Network,Hazlet...   \n",
       "24450  American Society for Surgery of the Hand,Bilas...   \n",
       "24451  ABC,Centers for Disease Control and Prevention...   \n",
       "24452  2015 San Bernardino shooting,Aurora, Colo,Foll...   \n",
       "24453  2008 presidential campaign,Affordable Care Act...   \n",
       "\n",
       "                      named_entities_article  \\\n",
       "0                                   abortion   \n",
       "1                                        NaN   \n",
       "2                                        NaN   \n",
       "3      Portland-Milwaukie Light Rail project   \n",
       "4                                Gary Farmer   \n",
       "...                                      ...   \n",
       "24449                                 Latino   \n",
       "24450                                    NaN   \n",
       "24451                                    NaN   \n",
       "24452                                    NaN   \n",
       "24453                                    NaN   \n",
       "\n",
       "                                                keywords      source  \\\n",
       "0                                   Abortion,Health Care  politifact   \n",
       "1                                               Abortion  politifact   \n",
       "2                                                 Ethics  politifact   \n",
       "3             State Budget,State Finances,Transportation  politifact   \n",
       "4                                                   Guns  politifact   \n",
       "...                                                  ...         ...   \n",
       "24449                                        Immigration  politifact   \n",
       "24450     hands, Medical, medical anomalies, mirror hand      snopes   \n",
       "24451                                         Crime,Guns  politifact   \n",
       "24452                                               Guns  politifact   \n",
       "24453  Corporations,Economy,Health Care,Public Health...  politifact   \n",
       "\n",
       "                       sourceURL  \\\n",
       "0      http://www.politifact.com   \n",
       "1      http://www.politifact.com   \n",
       "2      http://www.politifact.com   \n",
       "3      http://www.politifact.com   \n",
       "4      http://www.politifact.com   \n",
       "...                          ...   \n",
       "24449  http://www.politifact.com   \n",
       "24450      http://www.snopes.com   \n",
       "24451  http://www.politifact.com   \n",
       "24452  http://www.politifact.com   \n",
       "24453  http://www.politifact.com   \n",
       "\n",
       "                                                    link language  \n",
       "0      http://www.politifact.com/truth-o-meter/statem...  English  \n",
       "1      http://www.politifact.com/texas/statements/201...  English  \n",
       "2      http://www.politifact.com/texas/statements/201...  English  \n",
       "3      http://www.politifact.com/oregon/statements/20...  English  \n",
       "4      http://www.politifact.com/florida/statements/2...  English  \n",
       "...                                                  ...      ...  \n",
       "24449  http://www.politifact.com/pennsylvania/stateme...  English  \n",
       "24450  https://www.snopes.com/fact-check/real-hand-ei...  English  \n",
       "24451  http://www.politifact.com/new-jersey/statement...  English  \n",
       "24452  http://www.politifact.com/punditfact/statement...  English  \n",
       "24453  http://www.politifact.com/wisconsin/statements...  English  \n",
       "\n",
       "[24452 rows x 14 columns]"
      ]
     },
     "metadata": {},
     "output_type": "display_data"
    },
    {
     "data": {
      "image/png": "[encoded data removed]",
      "text/plain": [
       "<Figure size 432x432 with 1 Axes>"
      ]
     },
     "metadata": {},
     "output_type": "display_data"
    }
   ],
   "source": [
    "import pandas as pd\n",
    "import warnings\n",
    "warnings.filterwarnings(\"ignore\", category=FutureWarning)\n",
    "\n",
    "df = pd.read_csv (r'Rendu/DATASETS/data_sets.csv')\n",
    "row, col = df.shape\n",
    "print(f\" le data frame est composé de {row} lignes et {col} colonnes\")\n",
    "# suppression des lignes qui contiennes les attribus \n",
    "df = df[df['id']!= 'id']\n",
    "row1, col1 = df.shape\n",
    "print(f\" le data frame est composé de {row1} lignes et {col1} colonnes\")\n",
    "df.head()\n",
    "\n",
    "df[\"truthRating\"].value_counts().plot(kind='pie', \n",
    "                                  figsize=(6,6),\n",
    "                                  title='Pie', \n",
    "                                  fontsize=11, \n",
    "                                  legend=True)\n",
    "print(df[\"truthRating\"].value_counts())\n",
    "\n",
    "display(df)"
   ]
  },
  {
   "cell_type": "markdown",
   "id": "under-annual",
   "metadata": {},
   "source": [
    "## 2 Pré traitement des données \n",
    "explications des étapes de prés traitemens "
   ]
  },
  {
   "cell_type": "markdown",
   "id": "constant-combat",
   "metadata": {},
   "source": [
    "### 2.1 Creation d'une classe de prés traitements \n",
    "\n"
   ]
  },
  {
   "cell_type": "markdown",
   "id": "statutory-pickup",
   "metadata": {},
   "source": [
    "Fonction de préTraitement "
   ]
  },
  {
   "cell_type": "code",
   "execution_count": 4,
   "id": "blessed-explorer",
   "metadata": {
    "ExecuteTime": {
     "end_time": "2021-05-09T13:15:48.631947Z",
     "start_time": "2021-05-09T13:15:48.516664Z"
    },
    "code_folding": []
   },
   "outputs": [
    {
     "name": "stderr",
     "output_type": "stream",
     "text": [
      "[nltk_data] Downloading package wordnet to /home/silver/nltk_data...\n",
      "[nltk_data]   Package wordnet is already up-to-date!\n",
      "[nltk_data] Downloading package stopwords to /home/silver/nltk_data...\n",
      "[nltk_data]   Package stopwords is already up-to-date!\n",
      "[nltk_data] Downloading package punkt to /home/silver/nltk_data...\n",
      "[nltk_data]   Package punkt is already up-to-date!\n"
     ]
    }
   ],
   "source": [
    "import re\n",
    "import string\n",
    "\n",
    "import nltk\n",
    "from nltk.stem import WordNetLemmatizer\n",
    "from nltk.stem import PorterStemmer \n",
    "from nltk.corpus import stopwords\n",
    "from nltk import word_tokenize\n",
    "import inflect\n",
    "import unicodedata\n",
    "\n",
    "nltk.download('wordnet')\n",
    "nltk.download('stopwords')\n",
    "nltk.download('punkt')\n",
    "stop_words = set(stopwords.words('english')) \n",
    "\n",
    "def MyCleanText(X, \n",
    "               lowercase=False, # mettre en minuscule\n",
    "               removestopwords=False, # supprimer les stopwords\n",
    "               removedigit=False, # supprimer les nombres \n",
    "               transformdigit=False,# transformer les nombres en lettrres \n",
    "               getstemmer=False, # conserver la racine des termes\n",
    "               getlemmatisation=False,# lematisation des termes \n",
    "               remove_non_ascii=False,# suppriimer les caractéres_non_ascii\n",
    "              ):\n",
    "    \n",
    "    sentence=str(X)\n",
    "\n",
    "    # suppression des caractères spéciaux\n",
    "    sentence = re.sub(r'[^\\w\\s]',' ', sentence)\n",
    "    # suppression de tous les caractères uniques\n",
    "    sentence = re.sub(r'\\s+[a-zA-Z]\\s+', ' ', sentence)\n",
    "    # substitution des espaces multiples par un seul espace\n",
    "    sentence = re.sub(r'\\s+', ' ', sentence, flags=re.I)\n",
    "\n",
    "    # decoupage en mots\n",
    "    tokens = word_tokenize(sentence)\n",
    "    if lowercase:\n",
    "          tokens = [token.lower() for token in tokens]\n",
    "\n",
    "    # suppression ponctuation\n",
    "    table = str.maketrans('', '', string.punctuation)\n",
    "    words = [token.translate(table) for token in tokens]\n",
    "\n",
    "    # suppression des tokens non alphabetique ou numerique\n",
    "    words = [word for word in words if word.isalnum()]\n",
    "    \n",
    "    # suppression des tokens numerique\n",
    "    if removedigit:\n",
    "        words = [word for word in words if not word.isdigit()]\n",
    "    # transformert les nombres en lettres \n",
    "    if transformdigit:\n",
    "        p = inflect.engine()\n",
    "        new_words = []\n",
    "        for word in words:\n",
    "            if word.isdigit():\n",
    "                new_word = p.number_to_words(word)\n",
    "                new_words.append(new_word)\n",
    "            else:\n",
    "                new_words.append(word)\n",
    "                \n",
    "        words = new_words\n",
    "        \n",
    "        \n",
    "        \n",
    "    # suppression des stopwords\n",
    "    if removestopwords:\n",
    "        words = [word for word in words if not word in stop_words]\n",
    "\n",
    "    # lemmatisation\n",
    "    if getlemmatisation:\n",
    "        lemmatizer=WordNetLemmatizer()\n",
    "        words = [lemmatizer.lemmatize(word)for word in words]\n",
    "        \n",
    "\n",
    "    # racinisation\n",
    "    if getstemmer:\n",
    "        ps = PorterStemmer()\n",
    "        words=[ps.stem(word) for word in words]\n",
    "        \n",
    "    sentence= ' '.join(words)\n",
    "    \n",
    "    # suppression des caractéres non ascii\n",
    "    if remove_non_ascii:\n",
    "        new_words = []\n",
    "        for word in words:\n",
    "            new_word = unicodedata.normalize('NFKD', word).encode('ascii', 'ignore').decode('utf-8', 'ignore')\n",
    "            new_words.append(new_word)\n",
    "        words = new_words \n",
    "    \n",
    "    \n",
    "    \n",
    "    return sentence   "
   ]
  },
  {
   "cell_type": "code",
   "execution_count": 5,
   "id": "transsexual-parameter",
   "metadata": {
    "ExecuteTime": {
     "end_time": "2021-05-09T13:15:48.647776Z",
     "start_time": "2021-05-09T13:15:48.634092Z"
    }
   },
   "outputs": [],
   "source": [
    "from sklearn.base import BaseEstimator, TransformerMixin\n",
    "\n",
    "class TextNormalizer(BaseEstimator, TransformerMixin):\n",
    "    def __init__(self, \n",
    "                 removestopwords=False, # suppression des stopwords\n",
    "                 lowercase=False,# passage en minuscule\n",
    "                 removedigit=False, # supprimer les nombres \n",
    "                 transformdigit=False, # transforamation des chiffre en lettres\n",
    "                 getstemmer=False,# racinisation des termes \n",
    "                 getlemmatisation=False, # lemmatisation des termes \n",
    "                 remove_non_ascii=False # supprimer les caractéres non ascii\n",
    "                ):\n",
    "        \n",
    "        self.lowercase=lowercase\n",
    "        self.getstemmer=getstemmer\n",
    "        self.removestopwords=removestopwords\n",
    "        self.getlemmatisation=getlemmatisation\n",
    "        self.removedigit=removedigit\n",
    "        self.transformdigit=transformdigit\n",
    "        self.remove_non_ascii=remove_non_ascii\n",
    "\n",
    "    def transform(self, X, **transform_params):\n",
    "        # Nettoyage du texte\n",
    "        X=X.copy() # pour conserver le fichier d'origine\n",
    "        return [MyCleanText(text,lowercase=self.lowercase,\n",
    "                            getstemmer=self.getstemmer,\n",
    "                            removestopwords=self.removestopwords,\n",
    "                            getlemmatisation=self.getlemmatisation,\n",
    "                            removedigit=self.removedigit,\n",
    "                            transformdigit=self.transformdigit,\n",
    "                            remove_non_ascii=self.remove_non_ascii) for text in X]\n",
    "\n",
    "    def fit(self, X, y=None, **fit_params):\n",
    "        return self\n",
    "    \n",
    "    def fit_transform(self, X, y=None, **fit_params):\n",
    "        return self.fit(X).transform(X)\n",
    "\n",
    "    def get_params(self, deep=True):\n",
    "        return {\n",
    "            'lowercase':self.lowercase,\n",
    "            'getstemmer':self.getstemmer,\n",
    "            'removestopwords':self.removestopwords,\n",
    "            'getlemmatisation':self.getlemmatisation,\n",
    "            'removedigit':self.removedigit,\n",
    "            'transformdigit':self.transformdigit,\n",
    "            'remove_non_ascii':self.remove_non_ascii\n",
    "        }    \n",
    "    \n",
    "    def set_params (self, **parameters):\n",
    "        for parameter, value in parameters.items():\n",
    "            setattr(self,parameter,value)\n",
    "        return self    \n"
   ]
  },
  {
   "cell_type": "markdown",
   "id": "focal-pound",
   "metadata": {},
   "source": [
    "### 2.2 Sépartion en diffenrents data frame selon les classes "
   ]
  },
  {
   "cell_type": "code",
   "execution_count": 21,
   "id": "aging-gibson",
   "metadata": {
    "ExecuteTime": {
     "end_time": "2021-05-09T16:02:08.006279Z",
     "start_time": "2021-05-09T16:02:07.925491Z"
    }
   },
   "outputs": [
    {
     "name": "stdout",
     "output_type": "stream",
     "text": [
      "1    10000\n",
      "3     4452\n",
      "Name: truthRating, dtype: int64\n",
      "1    14452\n",
      "0    10000\n",
      "Name: truthRating, dtype: int64\n",
      "2    10000\n",
      "1    10000\n",
      "3     4452\n",
      "Name: truthRating, dtype: int64\n"
     ]
    }
   ],
   "source": [
    "# vrai / faux \n",
    "dfVF= df.copy()\n",
    "dfVF = dfVF[dfVF[\"truthRating\"] != '2']\n",
    "print(dfVF[\"truthRating\"].value_counts())\n",
    "\n",
    "#vair,faux / mixture\n",
    "dfVF_M= df.copy()\n",
    "dfVF_M['truthRating'] =dfVF_M['truthRating'].apply(lambda x: '1' if x == '1' or x == '3' else '0')\n",
    "print(dfVF_M[\"truthRating\"].value_counts())\n",
    "\n",
    "\n",
    "#vrai / faux / mixture\n",
    "dfVFM=df.copy()\n",
    "print(dfVFM[\"truthRating\"].value_counts())"
   ]
  },
  {
   "cell_type": "markdown",
   "id": "blessed-presentation",
   "metadata": {},
   "source": [
    "## 2.3 Application des diferentes prés traitement "
   ]
  },
  {
   "cell_type": "markdown",
   "id": "faced-rebecca",
   "metadata": {},
   "source": [
    "Nous avons 7 operation de prés traitement organiser de la maniére suivente :\n",
    "1. lowercase=False, # mettre en minuscule\n",
    "1. removestopwords=False, # supprimer les stopwords\n",
    "1. removedigit=False, # supprimer les nombres \n",
    "1. transformdigit=False,# transformer les nombres en lettrres \n",
    "1. getstemmer=False, # conserver la racine des termes\n",
    "1. getlemmatisation=False,# lematisation des termes \n",
    "1. remove_non_ascii=False,# suppriimer les caractéres_non_ascii\n",
    "\n",
    "l'application des operation de prés traitement dans une colonne de type 'text_XXX'\n",
    "\n",
    "|Opération ||indice|\n",
    "|----------||------|\n",
    "|lowercase||l|\n",
    "|removestopwords||rsw|\n",
    "|removedigit||rd|\n",
    "|transformdigit||td|\n",
    "|getstemmer||st|\n",
    "|getlemmatisation||lem|\n",
    "|remove_non_ascii||na|\n"
   ]
  },
  {
   "cell_type": "code",
   "execution_count": 38,
   "id": "pointed-arrival",
   "metadata": {
    "ExecuteTime": {
     "end_time": "2021-05-09T16:56:21.294977Z",
     "start_time": "2021-05-09T16:55:06.055158Z"
    },
    "scrolled": true
   },
   "outputs": [
    {
     "data": {
      "text/plain": [
       "0        There will be no public funding for abortion i...\n",
       "1        Central Health is the only hospital district i...\n",
       "2        Says most of Perry chief of staff have been lo...\n",
       "3        Says a Co Chair of the Joint Ways Means Commit...\n",
       "4        Says Gary Farmer claim that he received an fro...\n",
       "                               ...                        \n",
       "14448    Kevin lovable yet geeky sidekick in TV The Won...\n",
       "14449    E mail reproduces George Carlin list of New Ru...\n",
       "14450    Obamacare Medical Codes Confirm Execution by B...\n",
       "14451    Wrestler John Cena died in car accident in Jul...\n",
       "14452    Missouri is one of 13 state this year have see...\n",
       "Name: text_0000011, Length: 14452, dtype: object"
      ]
     },
     "metadata": {},
     "output_type": "display_data"
    }
   ],
   "source": [
    "\n",
    "text_normalizer=TextNormalizer(lowercase=True)  \n",
    "dfVF[\"text_l\"]=text_normalizer.fit_transform(dfVF.text)\n",
    "\n",
    "text_normalizer=TextNormalizer(removestopwords=True)  \n",
    "dfVF[\"text_rsw\"]=text_normalizer.fit_transform(dfVF.text)\n",
    "\n",
    "text_normalizer=TextNormalizer(removedigit=True)  \n",
    "dfVF[\"text_rd\"]=text_normalizer.fit_transform(dfVF.text)\n",
    "\n",
    "text_normalizer=TextNormalizer(transformdigit=True)  \n",
    "dfVF[\"text_td\"]=text_normalizer.fit_transform(dfVF.text)\n",
    "\n",
    "text_normalizer=TextNormalizer(getstemmer=True)  \n",
    "dfVF[\"text_st\"]=text_normalizer.fit_transform(dfVF.text)\n",
    "\n",
    "text_normalizer=TextNormalizer(getlemmatisation=True)  \n",
    "dfVF[\"text_lem\"]=text_normalizer.fit_transform(dfVF.text)\n",
    "\n",
    "text_normalizer=TextNormalizer(remove_non_ascii=True)  \n",
    "dfVF[\"text_na\"]=text_normalizer.fit_transform(dfVF.text)\n",
    "\n",
    "\n",
    "\n",
    "\n",
    "\n",
    "# print (\"texte après application des pré-traitements\")\n",
    "print(dVF[text_l])\n"
   ]
  },
  {
   "cell_type": "code",
   "execution_count": 37,
   "id": "stunning-bible",
   "metadata": {
    "ExecuteTime": {
     "end_time": "2021-05-09T16:53:31.672791Z",
     "start_time": "2021-05-09T16:53:31.642780Z"
    }
   },
   "outputs": [
    {
     "data": {
      "text/plain": [
       "0                      public funding abortion legislation\n",
       "1        central health hospital district texas spends ...\n",
       "2                        says perry chiefs staff lobbyists\n",
       "3        says co chair joint ways means committee secur...\n",
       "4         says gary farmer claim received nra absolute lie\n",
       "                               ...                        \n",
       "14448    kevin lovable yet geeky sidekick tv wonder yea...\n",
       "14449    e mail reproduces george carlin list new rules...\n",
       "14450    obamacare medical codes confirm execution behe...\n",
       "14451       wrestler john cena died car accident july 2016\n",
       "14452    missouri one 13 states year seen unemployment ...\n",
       "Name: text_1100000, Length: 14452, dtype: object"
      ]
     },
     "metadata": {},
     "output_type": "display_data"
    }
   ],
   "source": [
    "display(dfVF.text_1100000)"
   ]
  },
  {
   "cell_type": "markdown",
   "id": "consolidated-following",
   "metadata": {
    "ExecuteTime": {
     "end_time": "2021-04-22T18:02:53.063196Z",
     "start_time": "2021-04-22T18:02:53.059648Z"
    }
   },
   "source": [
    "## 3 Tache 1 :  VRAIS / FAUX"
   ]
  },
  {
   "cell_type": "markdown",
   "id": "chicken-things",
   "metadata": {},
   "source": [
    "### Test d'un calssifieur sur la colonne text sans prétraitement "
   ]
  },
  {
   "cell_type": "code",
   "execution_count": 7,
   "id": "about-jewelry",
   "metadata": {
    "ExecuteTime": {
     "end_time": "2021-05-09T13:16:11.866485Z",
     "start_time": "2021-05-09T13:15:48.701737Z"
    },
    "code_folding": [],
    "run_control": {
     "marked": false
    }
   },
   "outputs": [
    {
     "name": "stdout",
     "output_type": "stream",
     "text": [
      "pipeline créé\n"
     ]
    }
   ],
   "source": [
    "from sklearn.svm import SVC\n",
    "from sklearn.model_selection import train_test_split\n",
    "\n",
    "\n",
    "\n",
    "# selection des données\n",
    "X=dfVF.text\n",
    "y=dfVF.truthRating\n",
    "\n",
    "\n",
    "# Création d'un jeu d'apprentissage et de test\n",
    "trainsize=0.7 # 70% pour le jeu d'apprentissage, il reste 30% du jeu de données pour le test\n",
    "\n",
    "testsize= 0.3\n",
    "seed=30\n",
    "X_train,X_test,y_train,y_test=train_test_split(X, \n",
    "                                               y, \n",
    "                                               train_size=trainsize, \n",
    "                                               random_state=seed,\n",
    "                                               test_size=testsize)\n",
    "\n",
    "# création du pipeline en ajoutant le classifier\n",
    "pipe = Pipeline([(\"cleaner\", TextNormalizer()),\n",
    "                 (\"count_vectorizer\", CountVectorizer(lowercase=False)),\n",
    "                 (\"SVM\", SVC())])\n",
    "pipe.fit(X_train,y_train)\n",
    "\n",
    "print(\"pipeline créé\")"
   ]
  },
  {
   "cell_type": "code",
   "execution_count": 8,
   "id": "independent-renewal",
   "metadata": {
    "ExecuteTime": {
     "end_time": "2021-05-09T13:16:19.231920Z",
     "start_time": "2021-05-09T13:16:11.868556Z"
    },
    "run_control": {
     "marked": false
    },
    "scrolled": true
   },
   "outputs": [
    {
     "name": "stdout",
     "output_type": "stream",
     "text": [
      "Accuracy : 0.722\n",
      "Classification Report\n",
      "              precision    recall  f1-score   support\n",
      "\n",
      "           1    0.73014   0.95729   0.82843      3044\n",
      "           3    0.62319   0.16641   0.26268      1292\n",
      "\n",
      "    accuracy                        0.72163      4336\n",
      "   macro avg    0.67667   0.56185   0.54555      4336\n",
      "weighted avg    0.69827   0.72163   0.65985      4336\n",
      "\n"
     ]
    },
    {
     "data": {
      "image/png": "[encoded data removed]",
      "text/plain": [
       "<Figure size 576x360 with 2 Axes>"
      ]
     },
     "metadata": {},
     "output_type": "display_data"
    }
   ],
   "source": [
    "#from sklearn import metrics\n",
    "\n",
    "\n",
    "y_pred = pipe.predict(X_test)\n",
    "\n",
    "MyshowAllScores(y_test,y_pred)\n"
   ]
  },
  {
   "cell_type": "markdown",
   "id": "breathing-semiconductor",
   "metadata": {
    "heading_collapsed": true
   },
   "source": [
    "### Test d'un calssifieur sur la colonne text avec quelques prétraitement \n"
   ]
  },
  {
   "cell_type": "code",
   "execution_count": 9,
   "id": "connected-postage",
   "metadata": {
    "ExecuteTime": {
     "end_time": "2021-05-09T13:16:38.539355Z",
     "start_time": "2021-05-09T13:16:19.234031Z"
    },
    "hidden": true
   },
   "outputs": [
    {
     "name": "stdout",
     "output_type": "stream",
     "text": [
      "pipeline créé\n"
     ]
    }
   ],
   "source": [
    "# création du pipeline en ajoutant le classifier\n",
    "pipe = Pipeline([(\"cleaner\", TextNormalizer(lowercase=True ,removestopwords=True,removedigit=True)),\n",
    "                 (\"count_vectorizer\", CountVectorizer(lowercase=False)),\n",
    "                 (\"SVM\", SVC())])\n",
    "pipe.fit(X_train,y_train)\n",
    "\n",
    "print(\"pipeline créé\")"
   ]
  },
  {
   "cell_type": "code",
   "execution_count": 10,
   "id": "induced-rapid",
   "metadata": {
    "ExecuteTime": {
     "end_time": "2021-05-09T13:16:43.970712Z",
     "start_time": "2021-05-09T13:16:38.540993Z"
    },
    "hidden": true
   },
   "outputs": [
    {
     "name": "stdout",
     "output_type": "stream",
     "text": [
      "Accuracy : 0.726\n",
      "Classification Report\n",
      "              precision    recall  f1-score   support\n",
      "\n",
      "           1    0.73548   0.95269   0.83011      3044\n",
      "           3    0.63359   0.19272   0.29555      1292\n",
      "\n",
      "    accuracy                        0.72625      4336\n",
      "   macro avg    0.68453   0.57271   0.56283      4336\n",
      "weighted avg    0.70512   0.72625   0.67083      4336\n",
      "\n"
     ]
    },
    {
     "data": {
      "image/png": "[encoded data removed]",
      "text/plain": [
       "<Figure size 576x360 with 2 Axes>"
      ]
     },
     "metadata": {},
     "output_type": "display_data"
    }
   ],
   "source": [
    "y_pred = pipe.predict(X_test)\n",
    "\n",
    "MyshowAllScores(y_test,y_pred)\n"
   ]
  },
  {
   "cell_type": "markdown",
   "id": "interesting-western",
   "metadata": {},
   "source": [
    "### Tester la crosse validation "
   ]
  },
  {
   "cell_type": "code",
   "execution_count": 11,
   "id": "hourly-engineer",
   "metadata": {
    "ExecuteTime": {
     "end_time": "2021-05-09T13:23:36.669569Z",
     "start_time": "2021-05-09T13:16:43.972405Z"
    },
    "run_control": {
     "marked": false
    }
   },
   "outputs": [
    {
     "name": "stdout",
     "output_type": "stream",
     "text": [
      "Les différentes accuracy pour les 10 évaluations sont [0.72683264 0.71853389 0.71072664 0.71487889 0.7183391  0.70934256\n",
      " 0.72387543 0.72318339 0.72179931 0.70311419] \n",
      "\n",
      "Accuracy moyenne :  0.7170626043925015  standard deviation 0.007103753829680424\n"
     ]
    }
   ],
   "source": [
    "from sklearn.model_selection import KFold\n",
    "from sklearn.model_selection import cross_val_score\n",
    "seed=7\n",
    "k_fold = KFold(n_splits=10, shuffle=True, random_state=seed)\n",
    "\n",
    "\n",
    "scoring = 'accuracy'\n",
    "\n",
    "\n",
    "score = cross_val_score(pipe, X, y, cv=k_fold, scoring=scoring)\n",
    "print('Les différentes accuracy pour les 10 évaluations sont',score,'\\n')\n",
    "print ('Accuracy moyenne : ',score.mean(),' standard deviation', score.std())   "
   ]
  },
  {
   "cell_type": "code",
   "execution_count": null,
   "id": "allied-survival",
   "metadata": {},
   "outputs": [],
   "source": []
  },
  {
   "cell_type": "markdown",
   "id": "thrown-vegetable",
   "metadata": {},
   "source": [
    "### Tester l'accuracy de plusieurs classifieur "
   ]
  },
  {
   "cell_type": "markdown",
   "id": "hazardous-founder",
   "metadata": {},
   "source": [
    "paramétrage par defaut des classifieurs "
   ]
  },
  {
   "cell_type": "code",
   "execution_count": 40,
   "id": "artificial-species",
   "metadata": {
    "ExecuteTime": {
     "end_time": "2021-05-09T17:04:22.960661Z",
     "start_time": "2021-05-09T17:02:25.600091Z"
    },
    "code_folding": [],
    "run_control": {
     "marked": false
    },
    "scrolled": true
   },
   "outputs": [
    {
     "name": "stdout",
     "output_type": "stream",
     "text": [
      "(14452,)\n",
      "(14452, 19147)\n",
      "(14452, 19147)\n",
      "ADB\n",
      "scores: 0.6941176470588235\n",
      "GBC\n",
      "scores: 0.6948096885813149\n",
      "RFC\n",
      "scores: 0.6918108419838523\n",
      "KNC\n",
      "scores: 0.6620530565167244\n",
      "SVC\n",
      "scores: 0.696885813148789\n",
      "logisticRegression\n",
      "scores: 0.6975778546712803\n"
     ]
    }
   ],
   "source": [
    "from sklearn.ensemble import AdaBoostClassifier\n",
    "from sklearn.ensemble import GradientBoostingClassifier\n",
    "from sklearn.ensemble import RandomForestClassifier\n",
    "from sklearn.neighbors import KNeighborsClassifier\n",
    "from sklearn.svm import SVC\n",
    "from sklearn.model_selection import GridSearchCV\n",
    "from sklearn.linear_model import LogisticRegression\n",
    "from sklearn.metrics import accuracy_score, log_loss\n",
    "from sklearn.feature_extraction.text import CountVectorizer\n",
    "from sklearn.feature_extraction.text import TfidfTransformer\n",
    "\n",
    "# selection des données\n",
    "X=dfVF.text\n",
    "y=dfVF.truthRating\n",
    "\n",
    "count_vect = CountVectorizer()\n",
    "datatarget = dfVF['truthRating']\n",
    "\n",
    "print(datatarget.shape)\n",
    "\n",
    "X_train_counts = count_vect.fit_transform(dfVF.text)\n",
    "print(X_train_counts.shape)\n",
    "\n",
    "tf_transformer = TfidfTransformer(use_idf=True).fit(X_train_counts)\n",
    "X_train_tf = tf_transformer.transform(X_train_counts)\n",
    "print(X_train_tf.shape)\n",
    "\n",
    "validation_size=0.3 #30% du jeu de données pour le test\n",
    "testsize= 1-validation_size\n",
    "seed=30\n",
    "\n",
    "X_train,X_test,y_train,y_test=train_test_split(X_train_tf, \n",
    "                                               datatarget, \n",
    "                                               train_size=validation_size, \n",
    "                                               random_state=seed,\n",
    "                                               test_size=testsize)\n",
    "\n",
    "seed=7\n",
    "models = [\n",
    "            'ADB',\n",
    "            'GBC',\n",
    "            'RFC',\n",
    "            'KNC',\n",
    "            'SVC',\n",
    "            'logisticRegression'\n",
    "         ]\n",
    "clfs = [\n",
    "        AdaBoostClassifier(random_state=seed),\n",
    "        GradientBoostingClassifier(random_state=seed),\n",
    "        RandomForestClassifier(random_state=seed,n_jobs=-1),\n",
    "        KNeighborsClassifier(n_jobs=-1),\n",
    "        SVC(random_state=seed,probability=True),\n",
    "        LogisticRegression(solver='lbfgs',max_iter = 20000)\n",
    "        ]\n",
    "\n",
    "params = {\n",
    "            models[0]:{},\n",
    "    \n",
    "            models[1]:{},\n",
    "    \n",
    "            models[2]:{},\n",
    "    \n",
    "            models[3]:{},\n",
    "    \n",
    "            models[4]:{},\n",
    "    \n",
    "            models[5]:{}\n",
    "         }\n",
    "\n",
    "y_test = 0\n",
    "test_scores = []\n",
    "\n",
    "\n",
    "for name, estimator in zip(models,clfs):\n",
    "    print(name)\n",
    "    clf = GridSearchCV(estimator, params[name], scoring='accuracy',\n",
    "                       refit='True', n_jobs=-1, cv=5)\n",
    "    clf.fit(X_train, y_train)\n",
    "\n",
    "    \n",
    "    print(\"scores: \" + str(clf.best_score_))\n",
    "    estimates = clf.predict_proba(X_test)\n",
    "    "
   ]
  },
  {
   "cell_type": "code",
   "execution_count": null,
   "id": "economic-scottish",
   "metadata": {
    "scrolled": true
   },
   "outputs": [],
   "source": [
    "On décide de "
   ]
  },
  {
   "cell_type": "markdown",
   "id": "impossible-penguin",
   "metadata": {},
   "source": [
    "### Classification avec plusieurs features "
   ]
  },
  {
   "cell_type": "code",
   "execution_count": 27,
   "id": "automatic-rebel",
   "metadata": {
    "ExecuteTime": {
     "end_time": "2021-05-09T16:32:08.588383Z",
     "start_time": "2021-05-09T16:32:08.581994Z"
    }
   },
   "outputs": [],
   "source": [
    "def piplineClassification(df,colonnes,clf,target) :\n",
    "    \n",
    "    text_clf = Pipeline([\n",
    "     ('vect', CountVectorizer()),\n",
    "    ('tfidf', TfidfTransformer(use_idf=True)),\n",
    "     ('clf', clf), ])\n",
    "    \n",
    "    colonnesTrain = colonnes\n",
    "    datatarget = df[target]\n",
    "    \n",
    "    trainset = df[colonnesTrain]\n",
    "    trainset = trainset.apply(\n",
    "    lambda x: ','.join(x.dropna().astype(str)),\n",
    "    axis=1\n",
    ")\n",
    "\n",
    "    validation_size=0.3 #30% du jeu de données pour le test\n",
    "\n",
    "    testsize= 1-validation_size\n",
    "    seed=30\n",
    "\n",
    "    X_train,X_test,y_train,y_test=train_test_split(trainset, \n",
    "                                               datatarget, \n",
    "                                               train_size=validation_size, \n",
    "                                               random_state=seed,\n",
    "                                               test_size=testsize)\n",
    "    text_clf.fit(X_train, y_train)\n",
    "    print(\"prediction avec les features: \")\n",
    "    print(colonnesTrain)\n",
    "    result = text_clf.predict(X_test)\n",
    "    print('\\n accuracy :',accuracy_score(result, y_test),'\\n')\n",
    "\n",
    "    conf = confusion_matrix(y_test, result)\n",
    "    print ('\\n matrice de confusion \\n',conf)\n",
    "    print ('\\n',classification_report(y_test, result))\n",
    "    return \n",
    "    \n",
    "  "
   ]
  },
  {
   "cell_type": "code",
   "execution_count": null,
   "id": "afraid-farming",
   "metadata": {
    "ExecuteTime": {
     "end_time": "2021-05-09T16:36:52.937916Z",
     "start_time": "2021-05-09T16:36:42.533905Z"
    }
   },
   "outputs": [],
   "source": [
    "\n",
    "\n"
   ]
  },
  {
   "cell_type": "markdown",
   "id": "normal-label",
   "metadata": {
    "ExecuteTime": {
     "end_time": "2021-04-22T18:05:05.109349Z",
     "start_time": "2021-04-22T18:05:05.104472Z"
    }
   },
   "source": [
    "## Tache 2 : VRAIS, FAUX / MIXTURE"
   ]
  },
  {
   "cell_type": "markdown",
   "id": "lucky-marathon",
   "metadata": {},
   "source": [
    "## Tache 3 : VRAIS / FAUX / MIXTURE"
   ]
  }
 ],
 "metadata": {
  "kernelspec": {
   "display_name": "Python 3.8.8 64-bit ('HMIN232M': conda)",
   "language": "python",
   "name": "python388jvsc74a57bd08734f3cf391c533bd38bf221f0a4cbd53694ca9888f3d69b7de74b4ec0b7ed09"
  },
  "language_info": {
   "codemirror_mode": {
    "name": "ipython",
    "version": 3
   },
   "file_extension": ".py",
   "mimetype": "text/x-python",
   "name": "python",
   "nbconvert_exporter": "python",
   "pygments_lexer": "ipython3",
   "version": "3.8.8"
  },
  "metadata": {
   "interpreter": {
    "hash": "8734f3cf391c533bd38bf221f0a4cbd53694ca9888f3d69b7de74b4ec0b7ed09"
   }
  }
 },
 "nbformat": 4,
 "nbformat_minor": 5
}
