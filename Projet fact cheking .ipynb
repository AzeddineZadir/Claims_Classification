{
 "cells": [
  {
   "cell_type": "markdown",
   "id": "sought-flour",
   "metadata": {},
   "source": [
    "# Projet Data Science HMIN232 - 2020/2021\n",
    "Ce projet a pour but de proposer des modèles de classification supervisée d'assertions faites\n",
    "par des figures politiques selon leur valeur de véracité, ou autrement dit, de proposer une\n",
    "approche de fact-checking automatique.\n",
    "\n",
    "Groupe : "
   ]
  },
  {
   "cell_type": "markdown",
   "id": "overhead-waterproof",
   "metadata": {
    "ExecuteTime": {
     "end_time": "2021-04-22T10:11:53.620449Z",
     "start_time": "2021-04-22T10:11:53.608648Z"
    }
   },
   "source": [
    "## **Installation**"
   ]
  },
  {
   "cell_type": "code",
   "execution_count": 1,
   "id": "turned-twins",
   "metadata": {
    "ExecuteTime": {
     "end_time": "2021-04-24T20:50:48.455651Z",
     "start_time": "2021-04-24T20:50:48.441375Z"
    }
   },
   "outputs": [
    {
     "output_type": "stream",
     "name": "stderr",
     "text": [
      "[nltk_data] Downloading package wordnet to /home/silver/nltk_data...\n[nltk_data]   Package wordnet is already up-to-date!\n[nltk_data] Downloading package stopwords to /home/silver/nltk_data...\n[nltk_data]   Package stopwords is already up-to-date!\n[nltk_data] Downloading package punkt to /home/silver/nltk_data...\n[nltk_data]   Package punkt is already up-to-date!\n"
     ]
    }
   ],
   "source": [
    "# Importation des différentes librairies, classes et fonctions utilespour le notebook\n",
    "\n",
    "#Sickit learn met régulièrement à jour des versions et \n",
    "#indique des futurs warnings. \n",
    "#ces deux lignes permettent de ne pas les afficher.\n",
    "import warnings\n",
    "warnings.filterwarnings(\"ignore\", category=FutureWarning)\n",
    "\n",
    "\n",
    "# librairies générales\n",
    "import pandas as pd\n",
    "import re\n",
    "from tabulate import tabulate\n",
    "import time\n",
    "import numpy as np\n",
    "import pickle\n",
    "import string\n",
    "import base64\n",
    "\n",
    "# librairie affichage\n",
    "import matplotlib.pyplot as plt\n",
    "import seaborn as sns\n",
    "\n",
    "# librairies scikit learn\n",
    "import sklearn\n",
    "from sklearn.feature_extraction.text import CountVectorizer\n",
    "from sklearn.feature_extraction.text import TfidfVectorizer\n",
    "from sklearn.base import TransformerMixin\n",
    "from sklearn.pipeline import Pipeline\n",
    "from sklearn.model_selection import train_test_split\n",
    "from sklearn import metrics\n",
    "from sklearn.model_selection import cross_val_score\n",
    "from sklearn.metrics import confusion_matrix\n",
    "from sklearn.metrics import classification_report\n",
    "from sklearn.model_selection import KFold\n",
    "from sklearn.model_selection import GridSearchCV\n",
    "from sklearn.metrics import accuracy_score\n",
    "\n",
    "\n",
    "# librairies des classifiers utilisés\n",
    "from sklearn.svm import SVC\n",
    "from sklearn.linear_model import LogisticRegression\n",
    "from sklearn.tree import DecisionTreeClassifier\n",
    "from sklearn.neighbors import KNeighborsClassifier\n",
    "from sklearn.naive_bayes import MultinomialNB\n",
    "from sklearn.ensemble import RandomForestClassifier\n",
    "\n",
    "# librairies NLTK\n",
    "import nltk\n",
    "from nltk.stem import WordNetLemmatizer\n",
    "from nltk.stem import PorterStemmer \n",
    "from nltk.corpus import stopwords\n",
    "from nltk import word_tokenize \n",
    "\n",
    " \n",
    "nltk.download('wordnet')\n",
    "nltk.download('stopwords')\n",
    "nltk.download('punkt')\n",
    "stop_words = set(stopwords.words('english')) \n",
    "\n",
    "    "
   ]
  },
  {
   "cell_type": "code",
   "execution_count": 2,
   "id": "designed-madness",
   "metadata": {
    "ExecuteTime": {
     "end_time": "2021-04-24T13:43:43.465230Z",
     "start_time": "2021-04-24T13:43:43.460450Z"
    }
   },
   "outputs": [],
   "source": [
    "# fonctions utilities (affichage, confusion, etc.)\n",
    "from MyNLPUtilities import *\n"
   ]
  },
  {
   "cell_type": "markdown",
   "id": "vocal-brooks",
   "metadata": {
    "heading_collapsed": true
   },
   "source": [
    "## les Données\n",
    "\n",
    "Suite a une analyse des donnés communiqués dans le fichier csv ,nous avons décidé d'utiliser la platforme afin de télécharger les données contenant les valeur de véracités,tout en profitant du fait que ces dérniére sont plus propres que c'elles du fichier csv.\n",
    "\n"
   ]
  },
  {
   "cell_type": "markdown",
   "id": "automotive-mercury",
   "metadata": {},
   "source": [
    "## 1 Importation des donnés\n"
   ]
  },
  {
   "cell_type": "code",
   "execution_count": 3,
   "id": "documentary-marker",
   "metadata": {
    "ExecuteTime": {
     "end_time": "2021-04-24T20:37:01.732168Z",
     "start_time": "2021-04-24T20:37:00.376136Z"
    }
   },
   "outputs": [
    {
     "output_type": "stream",
     "name": "stdout",
     "text": [
      " le data frame est composé de 24454 lignes et 14 colonnes\n le data frame est composé de 24452 lignes et 14 colonnes\n2    10000\n1    10000\n3     4452\nName: truthRating, dtype: int64\n"
     ]
    },
    {
     "output_type": "display_data",
     "data": {
      "text/plain": "                                                      id  \\\n0      http://data.gesis.org/claimskg/claim_review/36...   \n1      http://data.gesis.org/claimskg/claim_review/e6...   \n2      http://data.gesis.org/claimskg/claim_review/e0...   \n3      http://data.gesis.org/claimskg/claim_review/48...   \n4      http://data.gesis.org/claimskg/claim_review/80...   \n...                                                  ...   \n24449  http://data.gesis.org/claimskg/claim_review/41...   \n24450  http://data.gesis.org/claimskg/claim_review/9e...   \n24451  http://data.gesis.org/claimskg/claim_review/1a...   \n24452  http://data.gesis.org/claimskg/claim_review/28...   \n24453  http://data.gesis.org/claimskg/claim_review/e4...   \n\n                                                    text        date  \\\n0      'There will be no public funding for abortion ...  2010-03-21   \n1      Central Health 'is the only hospital district ...  2011-03-15   \n2      Says most of Perry's chiefs of staff have been...  2010-08-14   \n3      Says 'as Co-Chair of the Joint Ways & Means Co...  2012-09-28   \n4      Says Gary Farmer’s claim that he 'received an ...  2016-07-08   \n...                                                  ...         ...   \n24449  'The city that I was mayor of was 50 percent L...  2018-06-07   \n24450  A set of images show a congenital anomaly that...     Unknown   \n24451  'You see 34 people (are) murdered every single...  2012-12-23   \n24452  'White men have committed more mass shootings ...  2017-10-02   \n24453  Under President Obama’s health-care reforms, t...  2013-12-05   \n\n      truthRating ratingName           author  \\\n0               3       TRUE      Bart Stupak   \n1               3       TRUE  Wayne Christian   \n2               3       TRUE       Bill White   \n3               3       TRUE       Mary Nolan   \n4               3       TRUE      Jim Waldman   \n...           ...        ...              ...   \n24449           2    MIXTURE     Lou Barletta   \n24450           2    MIXTURE          Unknown   \n24451           2    MIXTURE      Cory Booker   \n24452           2    MIXTURE         Newsweek   \n24453           2    MIXTURE      Ron Johnson   \n\n                                                headline  \\\n0      Stupak revises abortion stance on health care ...   \n1      State Rep. Wayne Christian says Central Health...   \n2      Bill White says most of Gov. Rick Perry's chie...   \n3      Did Mary Nolan secure funding for Milwaukie br...   \n4      Florida Senate candidate never actually receiv...   \n...                                                  ...   \n24449  Hazleton wasn’t half-Latino when Lou Barletta ...   \n24450            Is This a Real Hand With Eight Fingers?   \n24451  Cory Booker says 34 Americans are killed by gu...   \n24452  Are white males responsible for more mass shoo...   \n24453  Under Obamacare, health insurance premiums hav...   \n\n                                    named_entities_claim  \\\n0      Abortion rights,Barack Obama,Bart Stupak,Ben N...   \n1      Austin American-Statesman,Harris County Hospit...   \n2      AT&T,Bill Clements,Bill White,Bracewell & Giul...   \n3      Carolyn Tomei,Dave Hunt,Fetsch,Jeff Merkley,Ka...   \n4      Gary Farmer,Gwyndolen Clarke-Reed,Jim Waldman,...   \n...                                                  ...   \n24449  Barletta,Bob Casey,Fox Business Network,Hazlet...   \n24450  American Society for Surgery of the Hand,Bilas...   \n24451  ABC,Centers for Disease Control and Prevention...   \n24452  2015 San Bernardino shooting,Aurora, Colo,Foll...   \n24453  2008 presidential campaign,Affordable Care Act...   \n\n                      named_entities_article  \\\n0                                   abortion   \n1                                        NaN   \n2                                        NaN   \n3      Portland-Milwaukie Light Rail project   \n4                                Gary Farmer   \n...                                      ...   \n24449                                 Latino   \n24450                                    NaN   \n24451                                    NaN   \n24452                                    NaN   \n24453                                    NaN   \n\n                                                keywords      source  \\\n0                                   Abortion,Health Care  politifact   \n1                                               Abortion  politifact   \n2                                                 Ethics  politifact   \n3             State Budget,State Finances,Transportation  politifact   \n4                                                   Guns  politifact   \n...                                                  ...         ...   \n24449                                        Immigration  politifact   \n24450     hands, Medical, medical anomalies, mirror hand      snopes   \n24451                                         Crime,Guns  politifact   \n24452                                               Guns  politifact   \n24453  Corporations,Economy,Health Care,Public Health...  politifact   \n\n                       sourceURL  \\\n0      http://www.politifact.com   \n1      http://www.politifact.com   \n2      http://www.politifact.com   \n3      http://www.politifact.com   \n4      http://www.politifact.com   \n...                          ...   \n24449  http://www.politifact.com   \n24450      http://www.snopes.com   \n24451  http://www.politifact.com   \n24452  http://www.politifact.com   \n24453  http://www.politifact.com   \n\n                                                    link language  \n0      http://www.politifact.com/truth-o-meter/statem...  English  \n1      http://www.politifact.com/texas/statements/201...  English  \n2      http://www.politifact.com/texas/statements/201...  English  \n3      http://www.politifact.com/oregon/statements/20...  English  \n4      http://www.politifact.com/florida/statements/2...  English  \n...                                                  ...      ...  \n24449  http://www.politifact.com/pennsylvania/stateme...  English  \n24450  https://www.snopes.com/fact-check/real-hand-ei...  English  \n24451  http://www.politifact.com/new-jersey/statement...  English  \n24452  http://www.politifact.com/punditfact/statement...  English  \n24453  http://www.politifact.com/wisconsin/statements...  English  \n\n[24452 rows x 14 columns]",
      "text/html": "<div>\n<style scoped>\n    .dataframe tbody tr th:only-of-type {\n        vertical-align: middle;\n    }\n\n    .dataframe tbody tr th {\n        vertical-align: top;\n    }\n\n    .dataframe thead th {\n        text-align: right;\n    }\n</style>\n<table border=\"1\" class=\"dataframe\">\n  <thead>\n    <tr style=\"text-align: right;\">\n      <th></th>\n      <th>id</th>\n      <th>text</th>\n      <th>date</th>\n      <th>truthRating</th>\n      <th>ratingName</th>\n      <th>author</th>\n      <th>headline</th>\n      <th>named_entities_claim</th>\n      <th>named_entities_article</th>\n      <th>keywords</th>\n      <th>source</th>\n      <th>sourceURL</th>\n      <th>link</th>\n      <th>language</th>\n    </tr>\n  </thead>\n  <tbody>\n    <tr>\n      <th>0</th>\n      <td>http://data.gesis.org/claimskg/claim_review/36...</td>\n      <td>'There will be no public funding for abortion ...</td>\n      <td>2010-03-21</td>\n      <td>3</td>\n      <td>TRUE</td>\n      <td>Bart Stupak</td>\n      <td>Stupak revises abortion stance on health care ...</td>\n      <td>Abortion rights,Barack Obama,Bart Stupak,Ben N...</td>\n      <td>abortion</td>\n      <td>Abortion,Health Care</td>\n      <td>politifact</td>\n      <td>http://www.politifact.com</td>\n      <td>http://www.politifact.com/truth-o-meter/statem...</td>\n      <td>English</td>\n    </tr>\n    <tr>\n      <th>1</th>\n      <td>http://data.gesis.org/claimskg/claim_review/e6...</td>\n      <td>Central Health 'is the only hospital district ...</td>\n      <td>2011-03-15</td>\n      <td>3</td>\n      <td>TRUE</td>\n      <td>Wayne Christian</td>\n      <td>State Rep. Wayne Christian says Central Health...</td>\n      <td>Austin American-Statesman,Harris County Hospit...</td>\n      <td>NaN</td>\n      <td>Abortion</td>\n      <td>politifact</td>\n      <td>http://www.politifact.com</td>\n      <td>http://www.politifact.com/texas/statements/201...</td>\n      <td>English</td>\n    </tr>\n    <tr>\n      <th>2</th>\n      <td>http://data.gesis.org/claimskg/claim_review/e0...</td>\n      <td>Says most of Perry's chiefs of staff have been...</td>\n      <td>2010-08-14</td>\n      <td>3</td>\n      <td>TRUE</td>\n      <td>Bill White</td>\n      <td>Bill White says most of Gov. Rick Perry's chie...</td>\n      <td>AT&amp;T,Bill Clements,Bill White,Bracewell &amp; Giul...</td>\n      <td>NaN</td>\n      <td>Ethics</td>\n      <td>politifact</td>\n      <td>http://www.politifact.com</td>\n      <td>http://www.politifact.com/texas/statements/201...</td>\n      <td>English</td>\n    </tr>\n    <tr>\n      <th>3</th>\n      <td>http://data.gesis.org/claimskg/claim_review/48...</td>\n      <td>Says 'as Co-Chair of the Joint Ways &amp; Means Co...</td>\n      <td>2012-09-28</td>\n      <td>3</td>\n      <td>TRUE</td>\n      <td>Mary Nolan</td>\n      <td>Did Mary Nolan secure funding for Milwaukie br...</td>\n      <td>Carolyn Tomei,Dave Hunt,Fetsch,Jeff Merkley,Ka...</td>\n      <td>Portland-Milwaukie Light Rail project</td>\n      <td>State Budget,State Finances,Transportation</td>\n      <td>politifact</td>\n      <td>http://www.politifact.com</td>\n      <td>http://www.politifact.com/oregon/statements/20...</td>\n      <td>English</td>\n    </tr>\n    <tr>\n      <th>4</th>\n      <td>http://data.gesis.org/claimskg/claim_review/80...</td>\n      <td>Says Gary Farmer’s claim that he 'received an ...</td>\n      <td>2016-07-08</td>\n      <td>3</td>\n      <td>TRUE</td>\n      <td>Jim Waldman</td>\n      <td>Florida Senate candidate never actually receiv...</td>\n      <td>Gary Farmer,Gwyndolen Clarke-Reed,Jim Waldman,...</td>\n      <td>Gary Farmer</td>\n      <td>Guns</td>\n      <td>politifact</td>\n      <td>http://www.politifact.com</td>\n      <td>http://www.politifact.com/florida/statements/2...</td>\n      <td>English</td>\n    </tr>\n    <tr>\n      <th>...</th>\n      <td>...</td>\n      <td>...</td>\n      <td>...</td>\n      <td>...</td>\n      <td>...</td>\n      <td>...</td>\n      <td>...</td>\n      <td>...</td>\n      <td>...</td>\n      <td>...</td>\n      <td>...</td>\n      <td>...</td>\n      <td>...</td>\n      <td>...</td>\n    </tr>\n    <tr>\n      <th>24449</th>\n      <td>http://data.gesis.org/claimskg/claim_review/41...</td>\n      <td>'The city that I was mayor of was 50 percent L...</td>\n      <td>2018-06-07</td>\n      <td>2</td>\n      <td>MIXTURE</td>\n      <td>Lou Barletta</td>\n      <td>Hazleton wasn’t half-Latino when Lou Barletta ...</td>\n      <td>Barletta,Bob Casey,Fox Business Network,Hazlet...</td>\n      <td>Latino</td>\n      <td>Immigration</td>\n      <td>politifact</td>\n      <td>http://www.politifact.com</td>\n      <td>http://www.politifact.com/pennsylvania/stateme...</td>\n      <td>English</td>\n    </tr>\n    <tr>\n      <th>24450</th>\n      <td>http://data.gesis.org/claimskg/claim_review/9e...</td>\n      <td>A set of images show a congenital anomaly that...</td>\n      <td>Unknown</td>\n      <td>2</td>\n      <td>MIXTURE</td>\n      <td>Unknown</td>\n      <td>Is This a Real Hand With Eight Fingers?</td>\n      <td>American Society for Surgery of the Hand,Bilas...</td>\n      <td>NaN</td>\n      <td>hands, Medical, medical anomalies, mirror hand</td>\n      <td>snopes</td>\n      <td>http://www.snopes.com</td>\n      <td>https://www.snopes.com/fact-check/real-hand-ei...</td>\n      <td>English</td>\n    </tr>\n    <tr>\n      <th>24451</th>\n      <td>http://data.gesis.org/claimskg/claim_review/1a...</td>\n      <td>'You see 34 people (are) murdered every single...</td>\n      <td>2012-12-23</td>\n      <td>2</td>\n      <td>MIXTURE</td>\n      <td>Cory Booker</td>\n      <td>Cory Booker says 34 Americans are killed by gu...</td>\n      <td>ABC,Centers for Disease Control and Prevention...</td>\n      <td>NaN</td>\n      <td>Crime,Guns</td>\n      <td>politifact</td>\n      <td>http://www.politifact.com</td>\n      <td>http://www.politifact.com/new-jersey/statement...</td>\n      <td>English</td>\n    </tr>\n    <tr>\n      <th>24452</th>\n      <td>http://data.gesis.org/claimskg/claim_review/28...</td>\n      <td>'White men have committed more mass shootings ...</td>\n      <td>2017-10-02</td>\n      <td>2</td>\n      <td>MIXTURE</td>\n      <td>Newsweek</td>\n      <td>Are white males responsible for more mass shoo...</td>\n      <td>2015 San Bernardino shooting,Aurora, Colo,Foll...</td>\n      <td>NaN</td>\n      <td>Guns</td>\n      <td>politifact</td>\n      <td>http://www.politifact.com</td>\n      <td>http://www.politifact.com/punditfact/statement...</td>\n      <td>English</td>\n    </tr>\n    <tr>\n      <th>24453</th>\n      <td>http://data.gesis.org/claimskg/claim_review/e4...</td>\n      <td>Under President Obama’s health-care reforms, t...</td>\n      <td>2013-12-05</td>\n      <td>2</td>\n      <td>MIXTURE</td>\n      <td>Ron Johnson</td>\n      <td>Under Obamacare, health insurance premiums hav...</td>\n      <td>2008 presidential campaign,Affordable Care Act...</td>\n      <td>NaN</td>\n      <td>Corporations,Economy,Health Care,Public Health...</td>\n      <td>politifact</td>\n      <td>http://www.politifact.com</td>\n      <td>http://www.politifact.com/wisconsin/statements...</td>\n      <td>English</td>\n    </tr>\n  </tbody>\n</table>\n<p>24452 rows × 14 columns</p>\n</div>"
     },
     "metadata": {}
    },
    {
     "output_type": "display_data",
     "data": {
      "text/plain": "<Figure size 432x432 with 1 Axes>",
      "image/svg+xml": "<?xml version=\"1.0\" encoding=\"utf-8\" standalone=\"no\"?>\n<!DOCTYPE svg PUBLIC \"-//W3C//DTD SVG 1.1//EN\"\n  \"http://www.w3.org/Graphics/SVG/1.1/DTD/svg11.dtd\">\n<!-- Created with matplotlib (https://matplotlib.org/) -->\n<svg height=\"355.678125pt\" version=\"1.1\" viewBox=\"0 0 354.238125 355.678125\" width=\"354.238125pt\" xmlns=\"http://www.w3.org/2000/svg\" xmlns:xlink=\"http://www.w3.org/1999/xlink\">\n <metadata>\n  <rdf:RDF xmlns:cc=\"http://creativecommons.org/ns#\" xmlns:dc=\"http://purl.org/dc/elements/1.1/\" xmlns:rdf=\"http://www.w3.org/1999/02/22-rdf-syntax-ns#\">\n   <cc:Work>\n    <dc:type rdf:resource=\"http://purl.org/dc/dcmitype/StillImage\"/>\n    <dc:date>2021-04-25T22:59:40.018105</dc:date>\n    <dc:format>image/svg+xml</dc:format>\n    <dc:creator>\n     <cc:Agent>\n      <dc:title>Matplotlib v3.3.4, https://matplotlib.org/</dc:title>\n     </cc:Agent>\n    </dc:creator>\n   </cc:Work>\n  </rdf:RDF>\n </metadata>\n <defs>\n  <style type=\"text/css\">*{stroke-linecap:butt;stroke-linejoin:round;}</style>\n </defs>\n <g id=\"figure_1\">\n  <g id=\"patch_1\">\n   <path d=\"M 0 355.678125 \nL 354.238125 355.678125 \nL 354.238125 0 \nL 0 0 \nz\n\" style=\"fill:none;\"/>\n  </g>\n  <g id=\"axes_1\">\n   <g id=\"patch_2\">\n    <path d=\"M 314.422125 185.398125 \nC 314.422125 157.223534 305.295383 129.792974 288.415458 107.234701 \nC 271.535534 84.676427 247.793952 68.181872 220.763785 60.233439 \nC 193.733617 52.285005 164.84248 53.302497 138.438446 63.132782 \nC 112.034411 72.963067 89.512026 91.086953 74.260874 114.776822 \nL 183.958125 185.398125 \nL 314.422125 185.398125 \nz\n\" style=\"fill:#1f77b4;\"/>\n   </g>\n   <g id=\"patch_3\">\n    <path d=\"M 74.260874 114.776822 \nC 59.009722 138.466691 51.835304 166.471348 53.817357 194.576134 \nC 55.799411 222.68092 66.833253 249.401463 85.258308 270.716361 \nC 103.683363 292.03126 128.526499 306.814753 156.048861 312.841949 \nC 183.571224 318.869145 212.319202 315.821712 237.966269 304.158286 \nL 183.958125 185.398125 \nL 74.260874 114.776822 \nz\n\" style=\"fill:#ff7f0e;\"/>\n   </g>\n   <g id=\"patch_4\">\n    <path d=\"M 237.966269 304.158286 \nC 260.762782 293.791195 280.099328 277.076268 293.655383 256.019418 \nC 307.211437 234.962567 314.42213 210.441215 314.422125 185.398101 \nL 183.958125 185.398125 \nL 237.966269 304.158286 \nz\n\" style=\"fill:#2ca02c;\"/>\n   </g>\n   <g id=\"matplotlib.axis_1\"/>\n   <g id=\"matplotlib.axis_2\">\n    <g id=\"text_1\">\n     <!-- truthRating -->\n     <g transform=\"translate(14.798437 213.829375)rotate(-90)scale(0.1 -0.1)\">\n      <defs>\n       <path d=\"M 18.3125 70.21875 \nL 18.3125 54.6875 \nL 36.8125 54.6875 \nL 36.8125 47.703125 \nL 18.3125 47.703125 \nL 18.3125 18.015625 \nQ 18.3125 11.328125 20.140625 9.421875 \nQ 21.96875 7.515625 27.59375 7.515625 \nL 36.8125 7.515625 \nL 36.8125 0 \nL 27.59375 0 \nQ 17.1875 0 13.234375 3.875 \nQ 9.28125 7.765625 9.28125 18.015625 \nL 9.28125 47.703125 \nL 2.6875 47.703125 \nL 2.6875 54.6875 \nL 9.28125 54.6875 \nL 9.28125 70.21875 \nz\n\" id=\"DejaVuSans-116\"/>\n       <path d=\"M 41.109375 46.296875 \nQ 39.59375 47.171875 37.8125 47.578125 \nQ 36.03125 48 33.890625 48 \nQ 26.265625 48 22.1875 43.046875 \nQ 18.109375 38.09375 18.109375 28.8125 \nL 18.109375 0 \nL 9.078125 0 \nL 9.078125 54.6875 \nL 18.109375 54.6875 \nL 18.109375 46.1875 \nQ 20.953125 51.171875 25.484375 53.578125 \nQ 30.03125 56 36.53125 56 \nQ 37.453125 56 38.578125 55.875 \nQ 39.703125 55.765625 41.0625 55.515625 \nz\n\" id=\"DejaVuSans-114\"/>\n       <path d=\"M 8.5 21.578125 \nL 8.5 54.6875 \nL 17.484375 54.6875 \nL 17.484375 21.921875 \nQ 17.484375 14.15625 20.5 10.265625 \nQ 23.53125 6.390625 29.59375 6.390625 \nQ 36.859375 6.390625 41.078125 11.03125 \nQ 45.3125 15.671875 45.3125 23.6875 \nL 45.3125 54.6875 \nL 54.296875 54.6875 \nL 54.296875 0 \nL 45.3125 0 \nL 45.3125 8.40625 \nQ 42.046875 3.421875 37.71875 1 \nQ 33.40625 -1.421875 27.6875 -1.421875 \nQ 18.265625 -1.421875 13.375 4.4375 \nQ 8.5 10.296875 8.5 21.578125 \nz\nM 31.109375 56 \nz\n\" id=\"DejaVuSans-117\"/>\n       <path d=\"M 54.890625 33.015625 \nL 54.890625 0 \nL 45.90625 0 \nL 45.90625 32.71875 \nQ 45.90625 40.484375 42.875 44.328125 \nQ 39.84375 48.1875 33.796875 48.1875 \nQ 26.515625 48.1875 22.3125 43.546875 \nQ 18.109375 38.921875 18.109375 30.90625 \nL 18.109375 0 \nL 9.078125 0 \nL 9.078125 75.984375 \nL 18.109375 75.984375 \nL 18.109375 46.1875 \nQ 21.34375 51.125 25.703125 53.5625 \nQ 30.078125 56 35.796875 56 \nQ 45.21875 56 50.046875 50.171875 \nQ 54.890625 44.34375 54.890625 33.015625 \nz\n\" id=\"DejaVuSans-104\"/>\n       <path d=\"M 44.390625 34.1875 \nQ 47.5625 33.109375 50.5625 29.59375 \nQ 53.5625 26.078125 56.59375 19.921875 \nL 66.609375 0 \nL 56 0 \nL 46.6875 18.703125 \nQ 43.0625 26.03125 39.671875 28.421875 \nQ 36.28125 30.8125 30.421875 30.8125 \nL 19.671875 30.8125 \nL 19.671875 0 \nL 9.8125 0 \nL 9.8125 72.90625 \nL 32.078125 72.90625 \nQ 44.578125 72.90625 50.734375 67.671875 \nQ 56.890625 62.453125 56.890625 51.90625 \nQ 56.890625 45.015625 53.6875 40.46875 \nQ 50.484375 35.9375 44.390625 34.1875 \nz\nM 19.671875 64.796875 \nL 19.671875 38.921875 \nL 32.078125 38.921875 \nQ 39.203125 38.921875 42.84375 42.21875 \nQ 46.484375 45.515625 46.484375 51.90625 \nQ 46.484375 58.296875 42.84375 61.546875 \nQ 39.203125 64.796875 32.078125 64.796875 \nz\n\" id=\"DejaVuSans-82\"/>\n       <path d=\"M 34.28125 27.484375 \nQ 23.390625 27.484375 19.1875 25 \nQ 14.984375 22.515625 14.984375 16.5 \nQ 14.984375 11.71875 18.140625 8.90625 \nQ 21.296875 6.109375 26.703125 6.109375 \nQ 34.1875 6.109375 38.703125 11.40625 \nQ 43.21875 16.703125 43.21875 25.484375 \nL 43.21875 27.484375 \nz\nM 52.203125 31.203125 \nL 52.203125 0 \nL 43.21875 0 \nL 43.21875 8.296875 \nQ 40.140625 3.328125 35.546875 0.953125 \nQ 30.953125 -1.421875 24.3125 -1.421875 \nQ 15.921875 -1.421875 10.953125 3.296875 \nQ 6 8.015625 6 15.921875 \nQ 6 25.140625 12.171875 29.828125 \nQ 18.359375 34.515625 30.609375 34.515625 \nL 43.21875 34.515625 \nL 43.21875 35.40625 \nQ 43.21875 41.609375 39.140625 45 \nQ 35.0625 48.390625 27.6875 48.390625 \nQ 23 48.390625 18.546875 47.265625 \nQ 14.109375 46.140625 10.015625 43.890625 \nL 10.015625 52.203125 \nQ 14.9375 54.109375 19.578125 55.046875 \nQ 24.21875 56 28.609375 56 \nQ 40.484375 56 46.34375 49.84375 \nQ 52.203125 43.703125 52.203125 31.203125 \nz\n\" id=\"DejaVuSans-97\"/>\n       <path d=\"M 9.421875 54.6875 \nL 18.40625 54.6875 \nL 18.40625 0 \nL 9.421875 0 \nz\nM 9.421875 75.984375 \nL 18.40625 75.984375 \nL 18.40625 64.59375 \nL 9.421875 64.59375 \nz\n\" id=\"DejaVuSans-105\"/>\n       <path d=\"M 54.890625 33.015625 \nL 54.890625 0 \nL 45.90625 0 \nL 45.90625 32.71875 \nQ 45.90625 40.484375 42.875 44.328125 \nQ 39.84375 48.1875 33.796875 48.1875 \nQ 26.515625 48.1875 22.3125 43.546875 \nQ 18.109375 38.921875 18.109375 30.90625 \nL 18.109375 0 \nL 9.078125 0 \nL 9.078125 54.6875 \nL 18.109375 54.6875 \nL 18.109375 46.1875 \nQ 21.34375 51.125 25.703125 53.5625 \nQ 30.078125 56 35.796875 56 \nQ 45.21875 56 50.046875 50.171875 \nQ 54.890625 44.34375 54.890625 33.015625 \nz\n\" id=\"DejaVuSans-110\"/>\n       <path d=\"M 45.40625 27.984375 \nQ 45.40625 37.75 41.375 43.109375 \nQ 37.359375 48.484375 30.078125 48.484375 \nQ 22.859375 48.484375 18.828125 43.109375 \nQ 14.796875 37.75 14.796875 27.984375 \nQ 14.796875 18.265625 18.828125 12.890625 \nQ 22.859375 7.515625 30.078125 7.515625 \nQ 37.359375 7.515625 41.375 12.890625 \nQ 45.40625 18.265625 45.40625 27.984375 \nz\nM 54.390625 6.78125 \nQ 54.390625 -7.171875 48.1875 -13.984375 \nQ 42 -20.796875 29.203125 -20.796875 \nQ 24.46875 -20.796875 20.265625 -20.09375 \nQ 16.0625 -19.390625 12.109375 -17.921875 \nL 12.109375 -9.1875 \nQ 16.0625 -11.328125 19.921875 -12.34375 \nQ 23.78125 -13.375 27.78125 -13.375 \nQ 36.625 -13.375 41.015625 -8.765625 \nQ 45.40625 -4.15625 45.40625 5.171875 \nL 45.40625 9.625 \nQ 42.625 4.78125 38.28125 2.390625 \nQ 33.9375 0 27.875 0 \nQ 17.828125 0 11.671875 7.65625 \nQ 5.515625 15.328125 5.515625 27.984375 \nQ 5.515625 40.671875 11.671875 48.328125 \nQ 17.828125 56 27.875 56 \nQ 33.9375 56 38.28125 53.609375 \nQ 42.625 51.21875 45.40625 46.390625 \nL 45.40625 54.6875 \nL 54.390625 54.6875 \nz\n\" id=\"DejaVuSans-103\"/>\n      </defs>\n      <use xlink:href=\"#DejaVuSans-116\"/>\n      <use x=\"39.208984\" xlink:href=\"#DejaVuSans-114\"/>\n      <use x=\"80.322266\" xlink:href=\"#DejaVuSans-117\"/>\n      <use x=\"143.701172\" xlink:href=\"#DejaVuSans-116\"/>\n      <use x=\"182.910156\" xlink:href=\"#DejaVuSans-104\"/>\n      <use x=\"246.289062\" xlink:href=\"#DejaVuSans-82\"/>\n      <use x=\"313.521484\" xlink:href=\"#DejaVuSans-97\"/>\n      <use x=\"374.800781\" xlink:href=\"#DejaVuSans-116\"/>\n      <use x=\"414.009766\" xlink:href=\"#DejaVuSans-105\"/>\n      <use x=\"441.792969\" xlink:href=\"#DejaVuSans-110\"/>\n      <use x=\"505.171875\" xlink:href=\"#DejaVuSans-103\"/>\n     </g>\n    </g>\n   </g>\n   <g id=\"text_2\">\n    <!-- 2 -->\n    <g transform=\"translate(224.44435 50.752282)scale(0.11 -0.11)\">\n     <defs>\n      <path d=\"M 19.1875 8.296875 \nL 53.609375 8.296875 \nL 53.609375 0 \nL 7.328125 0 \nL 7.328125 8.296875 \nQ 12.9375 14.109375 22.625 23.890625 \nQ 32.328125 33.6875 34.8125 36.53125 \nQ 39.546875 41.84375 41.421875 45.53125 \nQ 43.3125 49.21875 43.3125 52.78125 \nQ 43.3125 58.59375 39.234375 62.25 \nQ 35.15625 65.921875 28.609375 65.921875 \nQ 23.96875 65.921875 18.8125 64.3125 \nQ 13.671875 62.703125 7.8125 59.421875 \nL 7.8125 69.390625 \nQ 13.765625 71.78125 18.9375 73 \nQ 24.125 74.21875 28.421875 74.21875 \nQ 39.75 74.21875 46.484375 68.546875 \nQ 53.21875 62.890625 53.21875 53.421875 \nQ 53.21875 48.921875 51.53125 44.890625 \nQ 49.859375 40.875 45.40625 35.40625 \nQ 44.1875 33.984375 37.640625 27.21875 \nQ 31.109375 20.453125 19.1875 8.296875 \nz\n\" id=\"DejaVuSans-50\"/>\n     </defs>\n     <use xlink:href=\"#DejaVuSans-50\"/>\n    </g>\n   </g>\n   <g id=\"text_3\">\n    <!-- 1 -->\n    <g transform=\"translate(68.389576 282.283497)scale(0.11 -0.11)\">\n     <defs>\n      <path d=\"M 12.40625 8.296875 \nL 28.515625 8.296875 \nL 28.515625 63.921875 \nL 10.984375 60.40625 \nL 10.984375 69.390625 \nL 28.421875 72.90625 \nL 38.28125 72.90625 \nL 38.28125 8.296875 \nL 54.390625 8.296875 \nL 54.390625 0 \nL 12.40625 0 \nz\n\" id=\"DejaVuSans-49\"/>\n     </defs>\n     <use xlink:href=\"#DejaVuSans-49\"/>\n    </g>\n   </g>\n   <g id=\"text_4\">\n    <!-- 3 -->\n    <g transform=\"translate(304.625108 266.116859)scale(0.11 -0.11)\">\n     <defs>\n      <path d=\"M 40.578125 39.3125 \nQ 47.65625 37.796875 51.625 33 \nQ 55.609375 28.21875 55.609375 21.1875 \nQ 55.609375 10.40625 48.1875 4.484375 \nQ 40.765625 -1.421875 27.09375 -1.421875 \nQ 22.515625 -1.421875 17.65625 -0.515625 \nQ 12.796875 0.390625 7.625 2.203125 \nL 7.625 11.71875 \nQ 11.71875 9.328125 16.59375 8.109375 \nQ 21.484375 6.890625 26.8125 6.890625 \nQ 36.078125 6.890625 40.9375 10.546875 \nQ 45.796875 14.203125 45.796875 21.1875 \nQ 45.796875 27.640625 41.28125 31.265625 \nQ 36.765625 34.90625 28.71875 34.90625 \nL 20.21875 34.90625 \nL 20.21875 43.015625 \nL 29.109375 43.015625 \nQ 36.375 43.015625 40.234375 45.921875 \nQ 44.09375 48.828125 44.09375 54.296875 \nQ 44.09375 59.90625 40.109375 62.90625 \nQ 36.140625 65.921875 28.71875 65.921875 \nQ 24.65625 65.921875 20.015625 65.03125 \nQ 15.375 64.15625 9.8125 62.3125 \nL 9.8125 71.09375 \nQ 15.4375 72.65625 20.34375 73.4375 \nQ 25.25 74.21875 29.59375 74.21875 \nQ 40.828125 74.21875 47.359375 69.109375 \nQ 53.90625 64.015625 53.90625 55.328125 \nQ 53.90625 49.265625 50.4375 45.09375 \nQ 46.96875 40.921875 40.578125 39.3125 \nz\n\" id=\"DejaVuSans-51\"/>\n     </defs>\n     <use xlink:href=\"#DejaVuSans-51\"/>\n    </g>\n   </g>\n   <g id=\"text_5\">\n    <!-- Pie -->\n    <g transform=\"translate(175.116562 16.318125)scale(0.12 -0.12)\">\n     <defs>\n      <path d=\"M 19.671875 64.796875 \nL 19.671875 37.40625 \nL 32.078125 37.40625 \nQ 38.96875 37.40625 42.71875 40.96875 \nQ 46.484375 44.53125 46.484375 51.125 \nQ 46.484375 57.671875 42.71875 61.234375 \nQ 38.96875 64.796875 32.078125 64.796875 \nz\nM 9.8125 72.90625 \nL 32.078125 72.90625 \nQ 44.34375 72.90625 50.609375 67.359375 \nQ 56.890625 61.8125 56.890625 51.125 \nQ 56.890625 40.328125 50.609375 34.8125 \nQ 44.34375 29.296875 32.078125 29.296875 \nL 19.671875 29.296875 \nL 19.671875 0 \nL 9.8125 0 \nz\n\" id=\"DejaVuSans-80\"/>\n      <path d=\"M 56.203125 29.59375 \nL 56.203125 25.203125 \nL 14.890625 25.203125 \nQ 15.484375 15.921875 20.484375 11.0625 \nQ 25.484375 6.203125 34.421875 6.203125 \nQ 39.59375 6.203125 44.453125 7.46875 \nQ 49.3125 8.734375 54.109375 11.28125 \nL 54.109375 2.78125 \nQ 49.265625 0.734375 44.1875 -0.34375 \nQ 39.109375 -1.421875 33.890625 -1.421875 \nQ 20.796875 -1.421875 13.15625 6.1875 \nQ 5.515625 13.8125 5.515625 26.8125 \nQ 5.515625 40.234375 12.765625 48.109375 \nQ 20.015625 56 32.328125 56 \nQ 43.359375 56 49.78125 48.890625 \nQ 56.203125 41.796875 56.203125 29.59375 \nz\nM 47.21875 32.234375 \nQ 47.125 39.59375 43.09375 43.984375 \nQ 39.0625 48.390625 32.421875 48.390625 \nQ 24.90625 48.390625 20.390625 44.140625 \nQ 15.875 39.890625 15.1875 32.171875 \nz\n\" id=\"DejaVuSans-101\"/>\n     </defs>\n     <use xlink:href=\"#DejaVuSans-80\"/>\n     <use x=\"58.052734\" xlink:href=\"#DejaVuSans-105\"/>\n     <use x=\"85.835938\" xlink:href=\"#DejaVuSans-101\"/>\n    </g>\n   </g>\n   <g id=\"legend_1\">\n    <g id=\"patch_5\">\n     <path d=\"M 27.878125 74.3525 \nL 66.240625 74.3525 \nQ 68.240625 74.3525 68.240625 72.3525 \nL 68.240625 29.318125 \nQ 68.240625 27.318125 66.240625 27.318125 \nL 27.878125 27.318125 \nQ 25.878125 27.318125 25.878125 29.318125 \nL 25.878125 72.3525 \nQ 25.878125 74.3525 27.878125 74.3525 \nz\n\" style=\"fill:#ffffff;opacity:0.8;stroke:#cccccc;stroke-linejoin:miter;\"/>\n    </g>\n    <g id=\"patch_6\">\n     <path d=\"M 29.878125 38.916562 \nL 49.878125 38.916562 \nL 49.878125 31.916562 \nL 29.878125 31.916562 \nz\n\" style=\"fill:#1f77b4;\"/>\n    </g>\n    <g id=\"text_6\">\n     <!-- 2 -->\n     <g transform=\"translate(57.878125 38.916562)scale(0.1 -0.1)\">\n      <use xlink:href=\"#DejaVuSans-50\"/>\n     </g>\n    </g>\n    <g id=\"patch_7\">\n     <path d=\"M 29.878125 53.594687 \nL 49.878125 53.594687 \nL 49.878125 46.594687 \nL 29.878125 46.594687 \nz\n\" style=\"fill:#ff7f0e;\"/>\n    </g>\n    <g id=\"text_7\">\n     <!-- 1 -->\n     <g transform=\"translate(57.878125 53.594687)scale(0.1 -0.1)\">\n      <use xlink:href=\"#DejaVuSans-49\"/>\n     </g>\n    </g>\n    <g id=\"patch_8\">\n     <path d=\"M 29.878125 68.272812 \nL 49.878125 68.272812 \nL 49.878125 61.272812 \nL 29.878125 61.272812 \nz\n\" style=\"fill:#2ca02c;\"/>\n    </g>\n    <g id=\"text_8\">\n     <!-- 3 -->\n     <g transform=\"translate(57.878125 68.272812)scale(0.1 -0.1)\">\n      <use xlink:href=\"#DejaVuSans-51\"/>\n     </g>\n    </g>\n   </g>\n  </g>\n </g>\n</svg>\n",
      "image/png": "[encoded data removed]"
     },
     "metadata": {}
    }
   ],
   "source": [
    "import pandas as pd\n",
    "import warnings\n",
    "warnings.filterwarnings(\"ignore\", category=FutureWarning)\n",
    "\n",
    "df = pd.read_csv (r'Rendu/DATASETS/data_sets.csv')\n",
    "row, col = df.shape\n",
    "print(f\" le data frame est composé de {row} lignes et {col} colonnes\")\n",
    "# suppression des lignes qui contiennes les attribus \n",
    "df = df[df['id']!= 'id']\n",
    "row1, col1 = df.shape\n",
    "print(f\" le data frame est composé de {row1} lignes et {col1} colonnes\")\n",
    "df.head()\n",
    "\n",
    "df[\"truthRating\"].value_counts().plot(kind='pie', \n",
    "                                  figsize=(6,6),\n",
    "                                  title='Pie', \n",
    "                                  fontsize=11, \n",
    "                                  legend=True)\n",
    "print(df[\"truthRating\"].value_counts())\n",
    "\n",
    "display(df)"
   ]
  },
  {
   "cell_type": "markdown",
   "id": "under-annual",
   "metadata": {},
   "source": [
    "## 2 Pré traitement des données \n",
    "explications des étapes de prés traitemens "
   ]
  },
  {
   "cell_type": "markdown",
   "id": "constant-combat",
   "metadata": {},
   "source": [
    "### 2.1 Creation d'une classe de prés traitements \n",
    "\n"
   ]
  },
  {
   "cell_type": "markdown",
   "id": "statutory-pickup",
   "metadata": {},
   "source": [
    "Fonction de préTraitement "
   ]
  },
  {
   "cell_type": "code",
   "execution_count": 4,
   "id": "blessed-explorer",
   "metadata": {
    "ExecuteTime": {
     "end_time": "2021-04-24T20:47:25.242529Z",
     "start_time": "2021-04-24T20:47:24.619155Z"
    },
    "code_folding": []
   },
   "outputs": [
    {
     "output_type": "stream",
     "name": "stderr",
     "text": [
      "[nltk_data] Downloading package wordnet to /home/silver/nltk_data...\n[nltk_data]   Package wordnet is already up-to-date!\n[nltk_data] Downloading package stopwords to /home/silver/nltk_data...\n[nltk_data]   Package stopwords is already up-to-date!\n[nltk_data] Downloading package punkt to /home/silver/nltk_data...\n[nltk_data]   Package punkt is already up-to-date!\n"
     ]
    }
   ],
   "source": [
    "import re\n",
    "import string\n",
    "\n",
    "import nltk\n",
    "from nltk.stem import WordNetLemmatizer\n",
    "from nltk.stem import PorterStemmer \n",
    "from nltk.corpus import stopwords\n",
    "from nltk import word_tokenize\n",
    "import inflect\n",
    "import unicodedata\n",
    "\n",
    "nltk.download('wordnet')\n",
    "nltk.download('stopwords')\n",
    "nltk.download('punkt')\n",
    "stop_words = set(stopwords.words('english')) \n",
    "\n",
    "def MyCleanText(X, \n",
    "               lowercase=False, # mettre en minuscule\n",
    "               removestopwords=False, # supprimer les stopwords\n",
    "               removedigit=False, # supprimer les nombres \n",
    "               transformdigit=False,# transformer les nombres en lettrres \n",
    "               getstemmer=False, # conserver la racine des termes\n",
    "               getlemmatisation=False,# lematisation des termes \n",
    "               remove_non_ascii=False,# suppriimer les caractéres_non_ascii\n",
    "              ):\n",
    "    \n",
    "    sentence=str(X)\n",
    "\n",
    "    # suppression des caractères spéciaux\n",
    "    sentence = re.sub(r'[^\\w\\s]',' ', sentence)\n",
    "    # suppression de tous les caractères uniques\n",
    "    sentence = re.sub(r'\\s+[a-zA-Z]\\s+', ' ', sentence)\n",
    "    # substitution des espaces multiples par un seul espace\n",
    "    sentence = re.sub(r'\\s+', ' ', sentence, flags=re.I)\n",
    "\n",
    "    # decoupage en mots\n",
    "    tokens = word_tokenize(sentence)\n",
    "    if lowercase:\n",
    "          tokens = [token.lower() for token in tokens]\n",
    "\n",
    "    # suppression ponctuation\n",
    "    table = str.maketrans('', '', string.punctuation)\n",
    "    words = [token.translate(table) for token in tokens]\n",
    "\n",
    "    # suppression des tokens non alphabetique ou numerique\n",
    "    words = [word for word in words if word.isalnum()]\n",
    "    \n",
    "    # suppression des tokens numerique\n",
    "    if removedigit:\n",
    "        words = [word for word in words if not word.isdigit()]\n",
    "    # transformert les nombres en lettres \n",
    "    if transformdigit:\n",
    "        p = inflect.engine()\n",
    "        new_words = []\n",
    "        for word in words:\n",
    "            if word.isdigit():\n",
    "                new_word = p.number_to_words(word)\n",
    "                new_words.append(new_word)\n",
    "            else:\n",
    "                new_words.append(word)\n",
    "                \n",
    "        words = new_words\n",
    "        \n",
    "        \n",
    "        \n",
    "    # suppression des stopwords\n",
    "    if removestopwords:\n",
    "        words = [word for word in words if not word in stop_words]\n",
    "\n",
    "    # lemmatisation\n",
    "    if getlemmatisation:\n",
    "        lemmatizer=WordNetLemmatizer()\n",
    "        words = [lemmatizer.lemmatize(word)for word in words]\n",
    "        \n",
    "\n",
    "    # racinisation\n",
    "    if getstemmer:\n",
    "        ps = PorterStemmer()\n",
    "        words=[ps.stem(word) for word in words]\n",
    "        \n",
    "    sentence= ' '.join(words)\n",
    "    \n",
    "    # suppression des caractéres non ascii\n",
    "    if remove_non_ascii:\n",
    "        new_words = []\n",
    "        for word in words:\n",
    "            new_word = unicodedata.normalize('NFKD', word).encode('ascii', 'ignore').decode('utf-8', 'ignore')\n",
    "            new_words.append(new_word)\n",
    "        words = new_words \n",
    "    \n",
    "    \n",
    "    \n",
    "    return sentence   "
   ]
  },
  {
   "cell_type": "code",
   "execution_count": 5,
   "id": "transsexual-parameter",
   "metadata": {
    "ExecuteTime": {
     "end_time": "2021-04-24T20:47:29.073603Z",
     "start_time": "2021-04-24T20:47:29.058745Z"
    }
   },
   "outputs": [],
   "source": [
    "from sklearn.base import BaseEstimator, TransformerMixin\n",
    "\n",
    "class TextNormalizer(BaseEstimator, TransformerMixin):\n",
    "    def __init__(self, \n",
    "                 removestopwords=False, # suppression des stopwords\n",
    "                 lowercase=False,# passage en minuscule\n",
    "                 removedigit=False, # supprimer les nombres \n",
    "                 transformdigit=False, # transforamation des chiffre en lettres\n",
    "                 getstemmer=False,# racinisation des termes \n",
    "                 getlemmatisation=False, # lemmatisation des termes \n",
    "                 remove_non_ascii=False # supprimer les caractéres non ascii\n",
    "                ):\n",
    "        \n",
    "        self.lowercase=lowercase\n",
    "        self.getstemmer=getstemmer\n",
    "        self.removestopwords=removestopwords\n",
    "        self.getlemmatisation=getlemmatisation\n",
    "        self.removedigit=removedigit\n",
    "        self.transformdigit=transformdigit\n",
    "        self.remove_non_ascii=remove_non_ascii\n",
    "\n",
    "    def transform(self, X, **transform_params):\n",
    "        # Nettoyage du texte\n",
    "        X=X.copy() # pour conserver le fichier d'origine\n",
    "        return [MyCleanText(text,lowercase=self.lowercase,\n",
    "                            getstemmer=self.getstemmer,\n",
    "                            removestopwords=self.removestopwords,\n",
    "                            getlemmatisation=self.getlemmatisation,\n",
    "                            removedigit=self.removedigit,\n",
    "                            transformdigit=self.transformdigit,\n",
    "                            remove_non_ascii=self.remove_non_ascii) for text in X]\n",
    "\n",
    "    def fit(self, X, y=None, **fit_params):\n",
    "        return self\n",
    "    \n",
    "    def fit_transform(self, X, y=None, **fit_params):\n",
    "        return self.fit(X).transform(X)\n",
    "\n",
    "    def get_params(self, deep=True):\n",
    "        return {\n",
    "            'lowercase':self.lowercase,\n",
    "            'getstemmer':self.getstemmer,\n",
    "            'removestopwords':self.removestopwords,\n",
    "            'getlemmatisation':self.getlemmatisation,\n",
    "            'removedigit':self.removedigit,\n",
    "            'transformdigit':self.transformdigit,\n",
    "            'remove_non_ascii':self.remove_non_ascii\n",
    "        }    \n",
    "    \n",
    "    def set_params (self, **parameters):\n",
    "        for parameter, value in parameters.items():\n",
    "            setattr(self,parameter,value)\n",
    "        return self    \n"
   ]
  },
  {
   "cell_type": "markdown",
   "id": "focal-pound",
   "metadata": {},
   "source": [
    "### 2.2 Sépartion en diffenrents data frame selon les classes "
   ]
  },
  {
   "cell_type": "code",
   "execution_count": 6,
   "id": "aging-gibson",
   "metadata": {
    "ExecuteTime": {
     "end_time": "2021-04-24T20:49:15.728555Z",
     "start_time": "2021-04-24T20:49:15.645292Z"
    }
   },
   "outputs": [
    {
     "output_type": "stream",
     "name": "stdout",
     "text": [
      "1    10000\n3     4452\nName: truthRating, dtype: int64\n1    14452\n0    10000\nName: truthRating, dtype: int64\n2    10000\n1    10000\n3     4452\nName: truthRating, dtype: int64\n"
     ]
    }
   ],
   "source": [
    "# vrai / faux \n",
    "dfVF= df.copy()\n",
    "dfVF = dfVF[dfVF[\"truthRating\"] != '2']\n",
    "print(dfVF[\"truthRating\"].value_counts())\n",
    "\n",
    "#vair,faux / mixture\n",
    "dfVF_M= df.copy()\n",
    "dfVF_M['truthRating'] =dfVF_M['truthRating'].apply(lambda x: '1' if x == '1' or x == '3' else '0')\n",
    "print(dfVF_M[\"truthRating\"].value_counts())\n",
    "\n",
    "\n",
    "#vrai / faux / mixture\n",
    "dfVFM=df.copy()\n",
    "print(dfVFM[\"truthRating\"].value_counts())"
   ]
  },
  {
   "cell_type": "markdown",
   "id": "consolidated-following",
   "metadata": {
    "ExecuteTime": {
     "end_time": "2021-04-22T18:02:53.063196Z",
     "start_time": "2021-04-22T18:02:53.059648Z"
    }
   },
   "source": [
    "## 3 Tache 1 :  VRAIS / FAUX"
   ]
  },
  {
   "cell_type": "markdown",
   "id": "chicken-things",
   "metadata": {},
   "source": [
    "### Test d'un calssifieur sur la colonne text sans prétraitement "
   ]
  },
  {
   "cell_type": "code",
   "execution_count": 7,
   "id": "about-jewelry",
   "metadata": {
    "ExecuteTime": {
     "end_time": "2021-04-24T13:44:03.751552Z",
     "start_time": "2021-04-24T13:43:44.309659Z"
    },
    "code_folding": [],
    "run_control": {
     "marked": false
    }
   },
   "outputs": [
    {
     "output_type": "stream",
     "name": "stdout",
     "text": [
      "pipeline créé\n"
     ]
    }
   ],
   "source": [
    "from sklearn.svm import SVC\n",
    "from sklearn.model_selection import train_test_split\n",
    "\n",
    "\n",
    "\n",
    "# selection des données\n",
    "X=dfVF.text\n",
    "y=dfVF.truthRating\n",
    "\n",
    "\n",
    "# Création d'un jeu d'apprentissage et de test\n",
    "trainsize=0.7 # 70% pour le jeu d'apprentissage, il reste 30% du jeu de données pour le test\n",
    "\n",
    "testsize= 0.3\n",
    "seed=30\n",
    "X_train,X_test,y_train,y_test=train_test_split(X, \n",
    "                                               y, \n",
    "                                               train_size=trainsize, \n",
    "                                               random_state=seed,\n",
    "                                               test_size=testsize)\n",
    "\n",
    "# création du pipeline en ajoutant le classifier\n",
    "pipe = Pipeline([(\"cleaner\", TextNormalizer()),\n",
    "                 (\"count_vectorizer\", CountVectorizer(lowercase=False)),\n",
    "                 (\"SVM\", SVC())])\n",
    "pipe.fit(X_train,y_train)\n",
    "\n",
    "print(\"pipeline créé\")"
   ]
  },
  {
   "cell_type": "code",
   "execution_count": 8,
   "id": "independent-renewal",
   "metadata": {
    "ExecuteTime": {
     "end_time": "2021-04-24T13:44:09.879449Z",
     "start_time": "2021-04-24T13:44:03.753824Z"
    },
    "run_control": {
     "marked": false
    }
   },
   "outputs": [
    {
     "output_type": "stream",
     "name": "stdout",
     "text": [
      "Accuracy : 0.722\nClassification Report\n              precision    recall  f1-score   support\n\n           1    0.73014   0.95729   0.82843      3044\n           3    0.62319   0.16641   0.26268      1292\n\n    accuracy                        0.72163      4336\n   macro avg    0.67667   0.56185   0.54555      4336\nweighted avg    0.69827   0.72163   0.65985      4336\n\n"
     ]
    },
    {
     "output_type": "display_data",
     "data": {
      "text/plain": "<Figure size 576x360 with 2 Axes>",
      "image/svg+xml": "<?xml version=\"1.0\" encoding=\"utf-8\" standalone=\"no\"?>\n<!DOCTYPE svg PUBLIC \"-//W3C//DTD SVG 1.1//EN\"\n  \"http://www.w3.org/Graphics/SVG/1.1/DTD/svg11.dtd\">\n<!-- Created with matplotlib (https://matplotlib.org/) -->\n<svg height=\"338.908553pt\" version=\"1.1\" viewBox=\"0 0 508.49475 338.908553\" width=\"508.49475pt\" xmlns=\"http://www.w3.org/2000/svg\" xmlns:xlink=\"http://www.w3.org/1999/xlink\">\n <metadata>\n  <rdf:RDF xmlns:cc=\"http://creativecommons.org/ns#\" xmlns:dc=\"http://purl.org/dc/elements/1.1/\" xmlns:rdf=\"http://www.w3.org/1999/02/22-rdf-syntax-ns#\">\n   <cc:Work>\n    <dc:type rdf:resource=\"http://purl.org/dc/dcmitype/StillImage\"/>\n    <dc:date>2021-04-25T23:00:05.762777</dc:date>\n    <dc:format>image/svg+xml</dc:format>\n    <dc:creator>\n     <cc:Agent>\n      <dc:title>Matplotlib v3.3.4, https://matplotlib.org/</dc:title>\n     </cc:Agent>\n    </dc:creator>\n   </cc:Work>\n  </rdf:RDF>\n </metadata>\n <defs>\n  <style type=\"text/css\">*{stroke-linecap:butt;stroke-linejoin:round;}</style>\n </defs>\n <g id=\"figure_1\">\n  <g id=\"patch_1\">\n   <path d=\"M 0 338.908553 \nL 508.49475 338.908553 \nL 508.49475 0 \nL 0 0 \nz\n\" style=\"fill:#ffffff;\"/>\n  </g>\n  <g id=\"axes_1\">\n   <g id=\"patch_2\">\n    <path d=\"M 39.3125 294.118125 \nL 396.4325 294.118125 \nL 396.4325 22.318125 \nL 39.3125 22.318125 \nz\n\" style=\"fill:#eaeaf2;\"/>\n   </g>\n   <g id=\"matplotlib.axis_1\">\n    <g id=\"xtick_1\">\n     <g id=\"text_1\">\n      <!-- 1 -->\n      <g style=\"fill:#262626;\" transform=\"translate(128.264358 314.477186)rotate(-45)scale(0.11 -0.11)\">\n       <defs>\n        <path d=\"M 12.40625 8.296875 \nL 28.515625 8.296875 \nL 28.515625 63.921875 \nL 10.984375 60.40625 \nL 10.984375 69.390625 \nL 28.421875 72.90625 \nL 38.28125 72.90625 \nL 38.28125 8.296875 \nL 54.390625 8.296875 \nL 54.390625 0 \nL 12.40625 0 \nz\n\" id=\"DejaVuSans-49\"/>\n       </defs>\n       <use xlink:href=\"#DejaVuSans-49\"/>\n      </g>\n     </g>\n    </g>\n    <g id=\"xtick_2\">\n     <g id=\"text_2\">\n      <!-- 3 -->\n      <g style=\"fill:#262626;\" transform=\"translate(306.824358 314.477186)rotate(-45)scale(0.11 -0.11)\">\n       <defs>\n        <path d=\"M 40.578125 39.3125 \nQ 47.65625 37.796875 51.625 33 \nQ 55.609375 28.21875 55.609375 21.1875 \nQ 55.609375 10.40625 48.1875 4.484375 \nQ 40.765625 -1.421875 27.09375 -1.421875 \nQ 22.515625 -1.421875 17.65625 -0.515625 \nQ 12.796875 0.390625 7.625 2.203125 \nL 7.625 11.71875 \nQ 11.71875 9.328125 16.59375 8.109375 \nQ 21.484375 6.890625 26.8125 6.890625 \nQ 36.078125 6.890625 40.9375 10.546875 \nQ 45.796875 14.203125 45.796875 21.1875 \nQ 45.796875 27.640625 41.28125 31.265625 \nQ 36.765625 34.90625 28.71875 34.90625 \nL 20.21875 34.90625 \nL 20.21875 43.015625 \nL 29.109375 43.015625 \nQ 36.375 43.015625 40.234375 45.921875 \nQ 44.09375 48.828125 44.09375 54.296875 \nQ 44.09375 59.90625 40.109375 62.90625 \nQ 36.140625 65.921875 28.71875 65.921875 \nQ 24.65625 65.921875 20.015625 65.03125 \nQ 15.375 64.15625 9.8125 62.3125 \nL 9.8125 71.09375 \nQ 15.4375 72.65625 20.34375 73.4375 \nQ 25.25 74.21875 29.59375 74.21875 \nQ 40.828125 74.21875 47.359375 69.109375 \nQ 53.90625 64.015625 53.90625 55.328125 \nQ 53.90625 49.265625 50.4375 45.09375 \nQ 46.96875 40.921875 40.578125 39.3125 \nz\n\" id=\"DejaVuSans-51\"/>\n       </defs>\n       <use xlink:href=\"#DejaVuSans-51\"/>\n      </g>\n     </g>\n    </g>\n    <g id=\"text_3\">\n     <!-- Predicted Label -->\n     <g style=\"fill:#262626;\" transform=\"translate(171.613438 329.212928)scale(0.12 -0.12)\">\n      <defs>\n       <path d=\"M 19.671875 64.796875 \nL 19.671875 37.40625 \nL 32.078125 37.40625 \nQ 38.96875 37.40625 42.71875 40.96875 \nQ 46.484375 44.53125 46.484375 51.125 \nQ 46.484375 57.671875 42.71875 61.234375 \nQ 38.96875 64.796875 32.078125 64.796875 \nz\nM 9.8125 72.90625 \nL 32.078125 72.90625 \nQ 44.34375 72.90625 50.609375 67.359375 \nQ 56.890625 61.8125 56.890625 51.125 \nQ 56.890625 40.328125 50.609375 34.8125 \nQ 44.34375 29.296875 32.078125 29.296875 \nL 19.671875 29.296875 \nL 19.671875 0 \nL 9.8125 0 \nz\n\" id=\"DejaVuSans-80\"/>\n       <path d=\"M 41.109375 46.296875 \nQ 39.59375 47.171875 37.8125 47.578125 \nQ 36.03125 48 33.890625 48 \nQ 26.265625 48 22.1875 43.046875 \nQ 18.109375 38.09375 18.109375 28.8125 \nL 18.109375 0 \nL 9.078125 0 \nL 9.078125 54.6875 \nL 18.109375 54.6875 \nL 18.109375 46.1875 \nQ 20.953125 51.171875 25.484375 53.578125 \nQ 30.03125 56 36.53125 56 \nQ 37.453125 56 38.578125 55.875 \nQ 39.703125 55.765625 41.0625 55.515625 \nz\n\" id=\"DejaVuSans-114\"/>\n       <path d=\"M 56.203125 29.59375 \nL 56.203125 25.203125 \nL 14.890625 25.203125 \nQ 15.484375 15.921875 20.484375 11.0625 \nQ 25.484375 6.203125 34.421875 6.203125 \nQ 39.59375 6.203125 44.453125 7.46875 \nQ 49.3125 8.734375 54.109375 11.28125 \nL 54.109375 2.78125 \nQ 49.265625 0.734375 44.1875 -0.34375 \nQ 39.109375 -1.421875 33.890625 -1.421875 \nQ 20.796875 -1.421875 13.15625 6.1875 \nQ 5.515625 13.8125 5.515625 26.8125 \nQ 5.515625 40.234375 12.765625 48.109375 \nQ 20.015625 56 32.328125 56 \nQ 43.359375 56 49.78125 48.890625 \nQ 56.203125 41.796875 56.203125 29.59375 \nz\nM 47.21875 32.234375 \nQ 47.125 39.59375 43.09375 43.984375 \nQ 39.0625 48.390625 32.421875 48.390625 \nQ 24.90625 48.390625 20.390625 44.140625 \nQ 15.875 39.890625 15.1875 32.171875 \nz\n\" id=\"DejaVuSans-101\"/>\n       <path d=\"M 45.40625 46.390625 \nL 45.40625 75.984375 \nL 54.390625 75.984375 \nL 54.390625 0 \nL 45.40625 0 \nL 45.40625 8.203125 \nQ 42.578125 3.328125 38.25 0.953125 \nQ 33.9375 -1.421875 27.875 -1.421875 \nQ 17.96875 -1.421875 11.734375 6.484375 \nQ 5.515625 14.40625 5.515625 27.296875 \nQ 5.515625 40.1875 11.734375 48.09375 \nQ 17.96875 56 27.875 56 \nQ 33.9375 56 38.25 53.625 \nQ 42.578125 51.265625 45.40625 46.390625 \nz\nM 14.796875 27.296875 \nQ 14.796875 17.390625 18.875 11.75 \nQ 22.953125 6.109375 30.078125 6.109375 \nQ 37.203125 6.109375 41.296875 11.75 \nQ 45.40625 17.390625 45.40625 27.296875 \nQ 45.40625 37.203125 41.296875 42.84375 \nQ 37.203125 48.484375 30.078125 48.484375 \nQ 22.953125 48.484375 18.875 42.84375 \nQ 14.796875 37.203125 14.796875 27.296875 \nz\n\" id=\"DejaVuSans-100\"/>\n       <path d=\"M 9.421875 54.6875 \nL 18.40625 54.6875 \nL 18.40625 0 \nL 9.421875 0 \nz\nM 9.421875 75.984375 \nL 18.40625 75.984375 \nL 18.40625 64.59375 \nL 9.421875 64.59375 \nz\n\" id=\"DejaVuSans-105\"/>\n       <path d=\"M 48.78125 52.59375 \nL 48.78125 44.1875 \nQ 44.96875 46.296875 41.140625 47.34375 \nQ 37.3125 48.390625 33.40625 48.390625 \nQ 24.65625 48.390625 19.8125 42.84375 \nQ 14.984375 37.3125 14.984375 27.296875 \nQ 14.984375 17.28125 19.8125 11.734375 \nQ 24.65625 6.203125 33.40625 6.203125 \nQ 37.3125 6.203125 41.140625 7.25 \nQ 44.96875 8.296875 48.78125 10.40625 \nL 48.78125 2.09375 \nQ 45.015625 0.34375 40.984375 -0.53125 \nQ 36.96875 -1.421875 32.421875 -1.421875 \nQ 20.0625 -1.421875 12.78125 6.34375 \nQ 5.515625 14.109375 5.515625 27.296875 \nQ 5.515625 40.671875 12.859375 48.328125 \nQ 20.21875 56 33.015625 56 \nQ 37.15625 56 41.109375 55.140625 \nQ 45.0625 54.296875 48.78125 52.59375 \nz\n\" id=\"DejaVuSans-99\"/>\n       <path d=\"M 18.3125 70.21875 \nL 18.3125 54.6875 \nL 36.8125 54.6875 \nL 36.8125 47.703125 \nL 18.3125 47.703125 \nL 18.3125 18.015625 \nQ 18.3125 11.328125 20.140625 9.421875 \nQ 21.96875 7.515625 27.59375 7.515625 \nL 36.8125 7.515625 \nL 36.8125 0 \nL 27.59375 0 \nQ 17.1875 0 13.234375 3.875 \nQ 9.28125 7.765625 9.28125 18.015625 \nL 9.28125 47.703125 \nL 2.6875 47.703125 \nL 2.6875 54.6875 \nL 9.28125 54.6875 \nL 9.28125 70.21875 \nz\n\" id=\"DejaVuSans-116\"/>\n       <path id=\"DejaVuSans-32\"/>\n       <path d=\"M 9.8125 72.90625 \nL 19.671875 72.90625 \nL 19.671875 8.296875 \nL 55.171875 8.296875 \nL 55.171875 0 \nL 9.8125 0 \nz\n\" id=\"DejaVuSans-76\"/>\n       <path d=\"M 34.28125 27.484375 \nQ 23.390625 27.484375 19.1875 25 \nQ 14.984375 22.515625 14.984375 16.5 \nQ 14.984375 11.71875 18.140625 8.90625 \nQ 21.296875 6.109375 26.703125 6.109375 \nQ 34.1875 6.109375 38.703125 11.40625 \nQ 43.21875 16.703125 43.21875 25.484375 \nL 43.21875 27.484375 \nz\nM 52.203125 31.203125 \nL 52.203125 0 \nL 43.21875 0 \nL 43.21875 8.296875 \nQ 40.140625 3.328125 35.546875 0.953125 \nQ 30.953125 -1.421875 24.3125 -1.421875 \nQ 15.921875 -1.421875 10.953125 3.296875 \nQ 6 8.015625 6 15.921875 \nQ 6 25.140625 12.171875 29.828125 \nQ 18.359375 34.515625 30.609375 34.515625 \nL 43.21875 34.515625 \nL 43.21875 35.40625 \nQ 43.21875 41.609375 39.140625 45 \nQ 35.0625 48.390625 27.6875 48.390625 \nQ 23 48.390625 18.546875 47.265625 \nQ 14.109375 46.140625 10.015625 43.890625 \nL 10.015625 52.203125 \nQ 14.9375 54.109375 19.578125 55.046875 \nQ 24.21875 56 28.609375 56 \nQ 40.484375 56 46.34375 49.84375 \nQ 52.203125 43.703125 52.203125 31.203125 \nz\n\" id=\"DejaVuSans-97\"/>\n       <path d=\"M 48.6875 27.296875 \nQ 48.6875 37.203125 44.609375 42.84375 \nQ 40.53125 48.484375 33.40625 48.484375 \nQ 26.265625 48.484375 22.1875 42.84375 \nQ 18.109375 37.203125 18.109375 27.296875 \nQ 18.109375 17.390625 22.1875 11.75 \nQ 26.265625 6.109375 33.40625 6.109375 \nQ 40.53125 6.109375 44.609375 11.75 \nQ 48.6875 17.390625 48.6875 27.296875 \nz\nM 18.109375 46.390625 \nQ 20.953125 51.265625 25.265625 53.625 \nQ 29.59375 56 35.59375 56 \nQ 45.5625 56 51.78125 48.09375 \nQ 58.015625 40.1875 58.015625 27.296875 \nQ 58.015625 14.40625 51.78125 6.484375 \nQ 45.5625 -1.421875 35.59375 -1.421875 \nQ 29.59375 -1.421875 25.265625 0.953125 \nQ 20.953125 3.328125 18.109375 8.203125 \nL 18.109375 0 \nL 9.078125 0 \nL 9.078125 75.984375 \nL 18.109375 75.984375 \nz\n\" id=\"DejaVuSans-98\"/>\n       <path d=\"M 9.421875 75.984375 \nL 18.40625 75.984375 \nL 18.40625 0 \nL 9.421875 0 \nz\n\" id=\"DejaVuSans-108\"/>\n      </defs>\n      <use xlink:href=\"#DejaVuSans-80\"/>\n      <use x=\"58.552734\" xlink:href=\"#DejaVuSans-114\"/>\n      <use x=\"97.416016\" xlink:href=\"#DejaVuSans-101\"/>\n      <use x=\"158.939453\" xlink:href=\"#DejaVuSans-100\"/>\n      <use x=\"222.416016\" xlink:href=\"#DejaVuSans-105\"/>\n      <use x=\"250.199219\" xlink:href=\"#DejaVuSans-99\"/>\n      <use x=\"305.179688\" xlink:href=\"#DejaVuSans-116\"/>\n      <use x=\"344.388672\" xlink:href=\"#DejaVuSans-101\"/>\n      <use x=\"405.912109\" xlink:href=\"#DejaVuSans-100\"/>\n      <use x=\"469.388672\" xlink:href=\"#DejaVuSans-32\"/>\n      <use x=\"501.175781\" xlink:href=\"#DejaVuSans-76\"/>\n      <use x=\"556.888672\" xlink:href=\"#DejaVuSans-97\"/>\n      <use x=\"618.167969\" xlink:href=\"#DejaVuSans-98\"/>\n      <use x=\"681.644531\" xlink:href=\"#DejaVuSans-101\"/>\n      <use x=\"743.167969\" xlink:href=\"#DejaVuSans-108\"/>\n     </g>\n    </g>\n   </g>\n   <g id=\"matplotlib.axis_2\">\n    <g id=\"ytick_1\">\n     <g id=\"text_4\">\n      <!-- 1 -->\n      <g style=\"fill:#262626;\" transform=\"translate(22.81375 94.447266)scale(0.11 -0.11)\">\n       <use xlink:href=\"#DejaVuSans-49\"/>\n      </g>\n     </g>\n    </g>\n    <g id=\"ytick_2\">\n     <g id=\"text_5\">\n      <!-- 3 -->\n      <g style=\"fill:#262626;\" transform=\"translate(22.81375 230.347266)scale(0.11 -0.11)\">\n       <use xlink:href=\"#DejaVuSans-51\"/>\n      </g>\n     </g>\n    </g>\n    <g id=\"text_6\">\n     <!-- True Label -->\n     <g style=\"fill:#262626;\" transform=\"translate(16.318125 189.053437)rotate(-90)scale(0.12 -0.12)\">\n      <defs>\n       <path d=\"M -0.296875 72.90625 \nL 61.375 72.90625 \nL 61.375 64.59375 \nL 35.5 64.59375 \nL 35.5 0 \nL 25.59375 0 \nL 25.59375 64.59375 \nL -0.296875 64.59375 \nz\n\" id=\"DejaVuSans-84\"/>\n       <path d=\"M 8.5 21.578125 \nL 8.5 54.6875 \nL 17.484375 54.6875 \nL 17.484375 21.921875 \nQ 17.484375 14.15625 20.5 10.265625 \nQ 23.53125 6.390625 29.59375 6.390625 \nQ 36.859375 6.390625 41.078125 11.03125 \nQ 45.3125 15.671875 45.3125 23.6875 \nL 45.3125 54.6875 \nL 54.296875 54.6875 \nL 54.296875 0 \nL 45.3125 0 \nL 45.3125 8.40625 \nQ 42.046875 3.421875 37.71875 1 \nQ 33.40625 -1.421875 27.6875 -1.421875 \nQ 18.265625 -1.421875 13.375 4.4375 \nQ 8.5 10.296875 8.5 21.578125 \nz\nM 31.109375 56 \nz\n\" id=\"DejaVuSans-117\"/>\n      </defs>\n      <use xlink:href=\"#DejaVuSans-84\"/>\n      <use x=\"46.333984\" xlink:href=\"#DejaVuSans-114\"/>\n      <use x=\"87.447266\" xlink:href=\"#DejaVuSans-117\"/>\n      <use x=\"150.826172\" xlink:href=\"#DejaVuSans-101\"/>\n      <use x=\"212.349609\" xlink:href=\"#DejaVuSans-32\"/>\n      <use x=\"244.136719\" xlink:href=\"#DejaVuSans-76\"/>\n      <use x=\"299.849609\" xlink:href=\"#DejaVuSans-97\"/>\n      <use x=\"361.128906\" xlink:href=\"#DejaVuSans-98\"/>\n      <use x=\"424.605469\" xlink:href=\"#DejaVuSans-101\"/>\n      <use x=\"486.128906\" xlink:href=\"#DejaVuSans-108\"/>\n     </g>\n    </g>\n   </g>\n   <g id=\"QuadMesh_1\">\n    <path clip-path=\"url(#pab1797a385)\" d=\"M 39.3125 22.318125 \nL 217.8725 22.318125 \nL 217.8725 158.218125 \nL 39.3125 158.218125 \nL 39.3125 22.318125 \n\" style=\"fill:#081d58;\"/>\n    <path clip-path=\"url(#pab1797a385)\" d=\"M 217.8725 22.318125 \nL 396.4325 22.318125 \nL 396.4325 158.218125 \nL 217.8725 158.218125 \nL 217.8725 22.318125 \n\" style=\"fill:#ffffd9;\"/>\n    <path clip-path=\"url(#pab1797a385)\" d=\"M 39.3125 158.218125 \nL 217.8725 158.218125 \nL 217.8725 294.118125 \nL 39.3125 294.118125 \nL 39.3125 158.218125 \n\" style=\"fill:#92d5b9;\"/>\n    <path clip-path=\"url(#pab1797a385)\" d=\"M 217.8725 158.218125 \nL 396.4325 158.218125 \nL 396.4325 294.118125 \nL 217.8725 294.118125 \nL 217.8725 158.218125 \n\" style=\"fill:#fbfdd0;\"/>\n   </g>\n   <g id=\"text_7\">\n    <!-- 2914 -->\n    <g style=\"fill:#ffffff;\" transform=\"translate(107.2145 94.903875)scale(0.168 -0.168)\">\n     <defs>\n      <path d=\"M 19.1875 8.296875 \nL 53.609375 8.296875 \nL 53.609375 0 \nL 7.328125 0 \nL 7.328125 8.296875 \nQ 12.9375 14.109375 22.625 23.890625 \nQ 32.328125 33.6875 34.8125 36.53125 \nQ 39.546875 41.84375 41.421875 45.53125 \nQ 43.3125 49.21875 43.3125 52.78125 \nQ 43.3125 58.59375 39.234375 62.25 \nQ 35.15625 65.921875 28.609375 65.921875 \nQ 23.96875 65.921875 18.8125 64.3125 \nQ 13.671875 62.703125 7.8125 59.421875 \nL 7.8125 69.390625 \nQ 13.765625 71.78125 18.9375 73 \nQ 24.125 74.21875 28.421875 74.21875 \nQ 39.75 74.21875 46.484375 68.546875 \nQ 53.21875 62.890625 53.21875 53.421875 \nQ 53.21875 48.921875 51.53125 44.890625 \nQ 49.859375 40.875 45.40625 35.40625 \nQ 44.1875 33.984375 37.640625 27.21875 \nQ 31.109375 20.453125 19.1875 8.296875 \nz\n\" id=\"DejaVuSans-50\"/>\n      <path d=\"M 10.984375 1.515625 \nL 10.984375 10.5 \nQ 14.703125 8.734375 18.5 7.8125 \nQ 22.3125 6.890625 25.984375 6.890625 \nQ 35.75 6.890625 40.890625 13.453125 \nQ 46.046875 20.015625 46.78125 33.40625 \nQ 43.953125 29.203125 39.59375 26.953125 \nQ 35.25 24.703125 29.984375 24.703125 \nQ 19.046875 24.703125 12.671875 31.3125 \nQ 6.296875 37.9375 6.296875 49.421875 \nQ 6.296875 60.640625 12.9375 67.421875 \nQ 19.578125 74.21875 30.609375 74.21875 \nQ 43.265625 74.21875 49.921875 64.515625 \nQ 56.59375 54.828125 56.59375 36.375 \nQ 56.59375 19.140625 48.40625 8.859375 \nQ 40.234375 -1.421875 26.421875 -1.421875 \nQ 22.703125 -1.421875 18.890625 -0.6875 \nQ 15.09375 0.046875 10.984375 1.515625 \nz\nM 30.609375 32.421875 \nQ 37.25 32.421875 41.125 36.953125 \nQ 45.015625 41.5 45.015625 49.421875 \nQ 45.015625 57.28125 41.125 61.84375 \nQ 37.25 66.40625 30.609375 66.40625 \nQ 23.96875 66.40625 20.09375 61.84375 \nQ 16.21875 57.28125 16.21875 49.421875 \nQ 16.21875 41.5 20.09375 36.953125 \nQ 23.96875 32.421875 30.609375 32.421875 \nz\n\" id=\"DejaVuSans-57\"/>\n      <path d=\"M 37.796875 64.3125 \nL 12.890625 25.390625 \nL 37.796875 25.390625 \nz\nM 35.203125 72.90625 \nL 47.609375 72.90625 \nL 47.609375 25.390625 \nL 58.015625 25.390625 \nL 58.015625 17.1875 \nL 47.609375 17.1875 \nL 47.609375 0 \nL 37.796875 0 \nL 37.796875 17.1875 \nL 4.890625 17.1875 \nL 4.890625 26.703125 \nz\n\" id=\"DejaVuSans-52\"/>\n     </defs>\n     <use xlink:href=\"#DejaVuSans-50\"/>\n     <use x=\"63.623047\" xlink:href=\"#DejaVuSans-57\"/>\n     <use x=\"127.246094\" xlink:href=\"#DejaVuSans-49\"/>\n     <use x=\"190.869141\" xlink:href=\"#DejaVuSans-52\"/>\n    </g>\n   </g>\n   <g id=\"text_8\">\n    <!-- 130 -->\n    <g style=\"fill:#262626;\" transform=\"translate(291.119 94.903875)scale(0.168 -0.168)\">\n     <defs>\n      <path d=\"M 31.78125 66.40625 \nQ 24.171875 66.40625 20.328125 58.90625 \nQ 16.5 51.421875 16.5 36.375 \nQ 16.5 21.390625 20.328125 13.890625 \nQ 24.171875 6.390625 31.78125 6.390625 \nQ 39.453125 6.390625 43.28125 13.890625 \nQ 47.125 21.390625 47.125 36.375 \nQ 47.125 51.421875 43.28125 58.90625 \nQ 39.453125 66.40625 31.78125 66.40625 \nz\nM 31.78125 74.21875 \nQ 44.046875 74.21875 50.515625 64.515625 \nQ 56.984375 54.828125 56.984375 36.375 \nQ 56.984375 17.96875 50.515625 8.265625 \nQ 44.046875 -1.421875 31.78125 -1.421875 \nQ 19.53125 -1.421875 13.0625 8.265625 \nQ 6.59375 17.96875 6.59375 36.375 \nQ 6.59375 54.828125 13.0625 64.515625 \nQ 19.53125 74.21875 31.78125 74.21875 \nz\n\" id=\"DejaVuSans-48\"/>\n     </defs>\n     <use xlink:href=\"#DejaVuSans-49\"/>\n     <use x=\"63.623047\" xlink:href=\"#DejaVuSans-51\"/>\n     <use x=\"127.246094\" xlink:href=\"#DejaVuSans-48\"/>\n    </g>\n   </g>\n   <g id=\"text_9\">\n    <!-- 1077 -->\n    <g style=\"fill:#262626;\" transform=\"translate(107.2145 230.803875)scale(0.168 -0.168)\">\n     <defs>\n      <path d=\"M 8.203125 72.90625 \nL 55.078125 72.90625 \nL 55.078125 68.703125 \nL 28.609375 0 \nL 18.3125 0 \nL 43.21875 64.59375 \nL 8.203125 64.59375 \nz\n\" id=\"DejaVuSans-55\"/>\n     </defs>\n     <use xlink:href=\"#DejaVuSans-49\"/>\n     <use x=\"63.623047\" xlink:href=\"#DejaVuSans-48\"/>\n     <use x=\"127.246094\" xlink:href=\"#DejaVuSans-55\"/>\n     <use x=\"190.869141\" xlink:href=\"#DejaVuSans-55\"/>\n    </g>\n   </g>\n   <g id=\"text_10\">\n    <!-- 215 -->\n    <g style=\"fill:#262626;\" transform=\"translate(291.119 230.803875)scale(0.168 -0.168)\">\n     <defs>\n      <path d=\"M 10.796875 72.90625 \nL 49.515625 72.90625 \nL 49.515625 64.59375 \nL 19.828125 64.59375 \nL 19.828125 46.734375 \nQ 21.96875 47.46875 24.109375 47.828125 \nQ 26.265625 48.1875 28.421875 48.1875 \nQ 40.625 48.1875 47.75 41.5 \nQ 54.890625 34.8125 54.890625 23.390625 \nQ 54.890625 11.625 47.5625 5.09375 \nQ 40.234375 -1.421875 26.90625 -1.421875 \nQ 22.3125 -1.421875 17.546875 -0.640625 \nQ 12.796875 0.140625 7.71875 1.703125 \nL 7.71875 11.625 \nQ 12.109375 9.234375 16.796875 8.0625 \nQ 21.484375 6.890625 26.703125 6.890625 \nQ 35.15625 6.890625 40.078125 11.328125 \nQ 45.015625 15.765625 45.015625 23.390625 \nQ 45.015625 31 40.078125 35.4375 \nQ 35.15625 39.890625 26.703125 39.890625 \nQ 22.75 39.890625 18.8125 39.015625 \nQ 14.890625 38.140625 10.796875 36.28125 \nz\n\" id=\"DejaVuSans-53\"/>\n     </defs>\n     <use xlink:href=\"#DejaVuSans-50\"/>\n     <use x=\"63.623047\" xlink:href=\"#DejaVuSans-49\"/>\n     <use x=\"127.246094\" xlink:href=\"#DejaVuSans-53\"/>\n    </g>\n   </g>\n   <g id=\"text_11\">\n    <!-- Matrice de confusion -->\n    <g style=\"fill:#262626;\" transform=\"translate(155.27375 16.318125)scale(0.12 -0.12)\">\n     <defs>\n      <path d=\"M 9.8125 72.90625 \nL 24.515625 72.90625 \nL 43.109375 23.296875 \nL 61.8125 72.90625 \nL 76.515625 72.90625 \nL 76.515625 0 \nL 66.890625 0 \nL 66.890625 64.015625 \nL 48.09375 14.015625 \nL 38.1875 14.015625 \nL 19.390625 64.015625 \nL 19.390625 0 \nL 9.8125 0 \nz\n\" id=\"DejaVuSans-77\"/>\n      <path d=\"M 30.609375 48.390625 \nQ 23.390625 48.390625 19.1875 42.75 \nQ 14.984375 37.109375 14.984375 27.296875 \nQ 14.984375 17.484375 19.15625 11.84375 \nQ 23.34375 6.203125 30.609375 6.203125 \nQ 37.796875 6.203125 41.984375 11.859375 \nQ 46.1875 17.53125 46.1875 27.296875 \nQ 46.1875 37.015625 41.984375 42.703125 \nQ 37.796875 48.390625 30.609375 48.390625 \nz\nM 30.609375 56 \nQ 42.328125 56 49.015625 48.375 \nQ 55.71875 40.765625 55.71875 27.296875 \nQ 55.71875 13.875 49.015625 6.21875 \nQ 42.328125 -1.421875 30.609375 -1.421875 \nQ 18.84375 -1.421875 12.171875 6.21875 \nQ 5.515625 13.875 5.515625 27.296875 \nQ 5.515625 40.765625 12.171875 48.375 \nQ 18.84375 56 30.609375 56 \nz\n\" id=\"DejaVuSans-111\"/>\n      <path d=\"M 54.890625 33.015625 \nL 54.890625 0 \nL 45.90625 0 \nL 45.90625 32.71875 \nQ 45.90625 40.484375 42.875 44.328125 \nQ 39.84375 48.1875 33.796875 48.1875 \nQ 26.515625 48.1875 22.3125 43.546875 \nQ 18.109375 38.921875 18.109375 30.90625 \nL 18.109375 0 \nL 9.078125 0 \nL 9.078125 54.6875 \nL 18.109375 54.6875 \nL 18.109375 46.1875 \nQ 21.34375 51.125 25.703125 53.5625 \nQ 30.078125 56 35.796875 56 \nQ 45.21875 56 50.046875 50.171875 \nQ 54.890625 44.34375 54.890625 33.015625 \nz\n\" id=\"DejaVuSans-110\"/>\n      <path d=\"M 37.109375 75.984375 \nL 37.109375 68.5 \nL 28.515625 68.5 \nQ 23.6875 68.5 21.796875 66.546875 \nQ 19.921875 64.59375 19.921875 59.515625 \nL 19.921875 54.6875 \nL 34.71875 54.6875 \nL 34.71875 47.703125 \nL 19.921875 47.703125 \nL 19.921875 0 \nL 10.890625 0 \nL 10.890625 47.703125 \nL 2.296875 47.703125 \nL 2.296875 54.6875 \nL 10.890625 54.6875 \nL 10.890625 58.5 \nQ 10.890625 67.625 15.140625 71.796875 \nQ 19.390625 75.984375 28.609375 75.984375 \nz\n\" id=\"DejaVuSans-102\"/>\n      <path d=\"M 44.28125 53.078125 \nL 44.28125 44.578125 \nQ 40.484375 46.53125 36.375 47.5 \nQ 32.28125 48.484375 27.875 48.484375 \nQ 21.1875 48.484375 17.84375 46.4375 \nQ 14.5 44.390625 14.5 40.28125 \nQ 14.5 37.15625 16.890625 35.375 \nQ 19.28125 33.59375 26.515625 31.984375 \nL 29.59375 31.296875 \nQ 39.15625 29.25 43.1875 25.515625 \nQ 47.21875 21.78125 47.21875 15.09375 \nQ 47.21875 7.46875 41.1875 3.015625 \nQ 35.15625 -1.421875 24.609375 -1.421875 \nQ 20.21875 -1.421875 15.453125 -0.5625 \nQ 10.6875 0.296875 5.421875 2 \nL 5.421875 11.28125 \nQ 10.40625 8.6875 15.234375 7.390625 \nQ 20.0625 6.109375 24.8125 6.109375 \nQ 31.15625 6.109375 34.5625 8.28125 \nQ 37.984375 10.453125 37.984375 14.40625 \nQ 37.984375 18.0625 35.515625 20.015625 \nQ 33.0625 21.96875 24.703125 23.78125 \nL 21.578125 24.515625 \nQ 13.234375 26.265625 9.515625 29.90625 \nQ 5.8125 33.546875 5.8125 39.890625 \nQ 5.8125 47.609375 11.28125 51.796875 \nQ 16.75 56 26.8125 56 \nQ 31.78125 56 36.171875 55.265625 \nQ 40.578125 54.546875 44.28125 53.078125 \nz\n\" id=\"DejaVuSans-115\"/>\n     </defs>\n     <use xlink:href=\"#DejaVuSans-77\"/>\n     <use x=\"86.279297\" xlink:href=\"#DejaVuSans-97\"/>\n     <use x=\"147.558594\" xlink:href=\"#DejaVuSans-116\"/>\n     <use x=\"186.767578\" xlink:href=\"#DejaVuSans-114\"/>\n     <use x=\"227.880859\" xlink:href=\"#DejaVuSans-105\"/>\n     <use x=\"255.664062\" xlink:href=\"#DejaVuSans-99\"/>\n     <use x=\"310.644531\" xlink:href=\"#DejaVuSans-101\"/>\n     <use x=\"372.167969\" xlink:href=\"#DejaVuSans-32\"/>\n     <use x=\"403.955078\" xlink:href=\"#DejaVuSans-100\"/>\n     <use x=\"467.431641\" xlink:href=\"#DejaVuSans-101\"/>\n     <use x=\"528.955078\" xlink:href=\"#DejaVuSans-32\"/>\n     <use x=\"560.742188\" xlink:href=\"#DejaVuSans-99\"/>\n     <use x=\"615.722656\" xlink:href=\"#DejaVuSans-111\"/>\n     <use x=\"676.904297\" xlink:href=\"#DejaVuSans-110\"/>\n     <use x=\"740.283203\" xlink:href=\"#DejaVuSans-102\"/>\n     <use x=\"775.488281\" xlink:href=\"#DejaVuSans-117\"/>\n     <use x=\"838.867188\" xlink:href=\"#DejaVuSans-115\"/>\n     <use x=\"890.966797\" xlink:href=\"#DejaVuSans-105\"/>\n     <use x=\"918.75\" xlink:href=\"#DejaVuSans-111\"/>\n     <use x=\"979.931641\" xlink:href=\"#DejaVuSans-110\"/>\n    </g>\n   </g>\n  </g>\n  <g id=\"axes_2\">\n   <g id=\"patch_3\">\n    <path clip-path=\"url(#p9ed34deee7)\" d=\"M 418.7525 294.118125 \nL 418.7525 293.056406 \nL 418.7525 23.379844 \nL 418.7525 22.318125 \nL 432.3425 22.318125 \nL 432.3425 23.379844 \nL 432.3425 293.056406 \nL 432.3425 294.118125 \nz\n\" style=\"fill:#eaeaf2;stroke:#eaeaf2;stroke-linejoin:miter;stroke-width:0.01;\"/>\n   </g>\n   <g id=\"matplotlib.axis_3\"/>\n   <g id=\"matplotlib.axis_4\">\n    <g id=\"ytick_3\">\n     <g id=\"line2d_1\">\n      <defs>\n       <path d=\"M 0 0 \nL 6 0 \n\" id=\"m5698039445\" style=\"stroke:#262626;stroke-width:1.25;\"/>\n      </defs>\n      <g>\n       <use style=\"fill:#262626;stroke:#262626;stroke-width:1.25;\" x=\"432.3425\" xlink:href=\"#m5698039445\" y=\"257.99528\"/>\n      </g>\n     </g>\n     <g id=\"text_12\">\n      <!-- 500 -->\n      <g style=\"fill:#262626;\" transform=\"translate(441.8425 263.846077)scale(0.154 -0.154)\">\n       <use xlink:href=\"#DejaVuSans-53\"/>\n       <use x=\"63.623047\" xlink:href=\"#DejaVuSans-48\"/>\n       <use x=\"127.246094\" xlink:href=\"#DejaVuSans-48\"/>\n      </g>\n     </g>\n    </g>\n    <g id=\"ytick_4\">\n     <g id=\"line2d_2\">\n      <g>\n       <use style=\"fill:#262626;stroke:#262626;stroke-width:1.25;\" x=\"432.3425\" xlink:href=\"#m5698039445\" y=\"209.180625\"/>\n      </g>\n     </g>\n     <g id=\"text_13\">\n      <!-- 1000 -->\n      <g style=\"fill:#262626;\" transform=\"translate(441.8425 215.031422)scale(0.154 -0.154)\">\n       <use xlink:href=\"#DejaVuSans-49\"/>\n       <use x=\"63.623047\" xlink:href=\"#DejaVuSans-48\"/>\n       <use x=\"127.246094\" xlink:href=\"#DejaVuSans-48\"/>\n       <use x=\"190.869141\" xlink:href=\"#DejaVuSans-48\"/>\n      </g>\n     </g>\n    </g>\n    <g id=\"ytick_5\">\n     <g id=\"line2d_3\">\n      <g>\n       <use style=\"fill:#262626;stroke:#262626;stroke-width:1.25;\" x=\"432.3425\" xlink:href=\"#m5698039445\" y=\"160.36597\"/>\n      </g>\n     </g>\n     <g id=\"text_14\">\n      <!-- 1500 -->\n      <g style=\"fill:#262626;\" transform=\"translate(441.8425 166.216767)scale(0.154 -0.154)\">\n       <use xlink:href=\"#DejaVuSans-49\"/>\n       <use x=\"63.623047\" xlink:href=\"#DejaVuSans-53\"/>\n       <use x=\"127.246094\" xlink:href=\"#DejaVuSans-48\"/>\n       <use x=\"190.869141\" xlink:href=\"#DejaVuSans-48\"/>\n      </g>\n     </g>\n    </g>\n    <g id=\"ytick_6\">\n     <g id=\"line2d_4\">\n      <g>\n       <use style=\"fill:#262626;stroke:#262626;stroke-width:1.25;\" x=\"432.3425\" xlink:href=\"#m5698039445\" y=\"111.551315\"/>\n      </g>\n     </g>\n     <g id=\"text_15\">\n      <!-- 2000 -->\n      <g style=\"fill:#262626;\" transform=\"translate(441.8425 117.402112)scale(0.154 -0.154)\">\n       <use xlink:href=\"#DejaVuSans-50\"/>\n       <use x=\"63.623047\" xlink:href=\"#DejaVuSans-48\"/>\n       <use x=\"127.246094\" xlink:href=\"#DejaVuSans-48\"/>\n       <use x=\"190.869141\" xlink:href=\"#DejaVuSans-48\"/>\n      </g>\n     </g>\n    </g>\n    <g id=\"ytick_7\">\n     <g id=\"line2d_5\">\n      <g>\n       <use style=\"fill:#262626;stroke:#262626;stroke-width:1.25;\" x=\"432.3425\" xlink:href=\"#m5698039445\" y=\"62.736659\"/>\n      </g>\n     </g>\n     <g id=\"text_16\">\n      <!-- 2500 -->\n      <g style=\"fill:#262626;\" transform=\"translate(441.8425 68.587456)scale(0.154 -0.154)\">\n       <use xlink:href=\"#DejaVuSans-50\"/>\n       <use x=\"63.623047\" xlink:href=\"#DejaVuSans-53\"/>\n       <use x=\"127.246094\" xlink:href=\"#DejaVuSans-48\"/>\n       <use x=\"190.869141\" xlink:href=\"#DejaVuSans-48\"/>\n      </g>\n     </g>\n    </g>\n    <g id=\"text_17\">\n     <!-- Scale -->\n     <g style=\"fill:#262626;\" transform=\"translate(497.800875 180.819375)rotate(-90)scale(0.168 -0.168)\">\n      <defs>\n       <path d=\"M 53.515625 70.515625 \nL 53.515625 60.890625 \nQ 47.90625 63.578125 42.921875 64.890625 \nQ 37.9375 66.21875 33.296875 66.21875 \nQ 25.25 66.21875 20.875 63.09375 \nQ 16.5 59.96875 16.5 54.203125 \nQ 16.5 49.359375 19.40625 46.890625 \nQ 22.3125 44.4375 30.421875 42.921875 \nL 36.375 41.703125 \nQ 47.40625 39.59375 52.65625 34.296875 \nQ 57.90625 29 57.90625 20.125 \nQ 57.90625 9.515625 50.796875 4.046875 \nQ 43.703125 -1.421875 29.984375 -1.421875 \nQ 24.8125 -1.421875 18.96875 -0.25 \nQ 13.140625 0.921875 6.890625 3.21875 \nL 6.890625 13.375 \nQ 12.890625 10.015625 18.65625 8.296875 \nQ 24.421875 6.59375 29.984375 6.59375 \nQ 38.421875 6.59375 43.015625 9.90625 \nQ 47.609375 13.234375 47.609375 19.390625 \nQ 47.609375 24.75 44.3125 27.78125 \nQ 41.015625 30.8125 33.5 32.328125 \nL 27.484375 33.5 \nQ 16.453125 35.6875 11.515625 40.375 \nQ 6.59375 45.0625 6.59375 53.421875 \nQ 6.59375 63.09375 13.40625 68.65625 \nQ 20.21875 74.21875 32.171875 74.21875 \nQ 37.3125 74.21875 42.625 73.28125 \nQ 47.953125 72.359375 53.515625 70.515625 \nz\n\" id=\"DejaVuSans-83\"/>\n      </defs>\n      <use xlink:href=\"#DejaVuSans-83\"/>\n      <use x=\"63.476562\" xlink:href=\"#DejaVuSans-99\"/>\n      <use x=\"118.457031\" xlink:href=\"#DejaVuSans-97\"/>\n      <use x=\"179.736328\" xlink:href=\"#DejaVuSans-108\"/>\n      <use x=\"207.519531\" xlink:href=\"#DejaVuSans-101\"/>\n     </g>\n    </g>\n   </g>\n   <image height=\"272\" id=\"imageef8795b59b\" transform=\"scale(1 -1)translate(0 -272)\" width=\"13\" x=\"419\" xlink:href=\"data:image/png;base64,\niVBORw0KGgoAAAANSUhEUgAAAA0AAAEQCAYAAABr1P6NAAABjElEQVR4nO2bwW3EQAwDuYH6ry/N2MonDWgeA2Hh+xMUJVILn9fn7d/O8FfJO8WkusdE+RkjklQyZ6omIK0RtDzEBDQxJtKIGzWJ3gNMZgiZI6RGmCFszbC7NZnljTGpuaKkABEMIdJEyqvuIzG9oqbVTMx7nyM4EwwhAmlzujNPwHvr8wRASBNyBASBOT2AiSWXaWJMUiPU4QLQg5LraZpj9mtic5qDaAit7j1zjLn3tDmtPwDmROs1aQc1fZDUVtgcc+WcLtX02SjBJyECoQeUb07/oDnR/mgwRywHWe81WHnAR/CBf/ucCAiIEsu7s+WISZqTmFxxuNqO0DasGULSPfCaMBWyjUK6dxjTGMM0wWsBWvfArYDUYUwaSGsEZLrO5WIjyJxYCEWXe4bdPdzjGdbLk2ijMUY8c+FJKLZcY2KgMUaNu1YeW8ti9wiTtSP2h9BqOTzdAZO4I7Ty4C1V7TsAdDFY1DQH0X9zNmsSh2tqQpfSV5fnXUrfrYlebd2syfw8S/TeZkf8ATIz4ae97jvEAAAAAElFTkSuQmCC\" y=\"-21\"/>\n   <g id=\"patch_4\">\n    <path d=\"M 418.7525 294.118125 \nL 418.7525 293.056406 \nL 418.7525 23.379844 \nL 418.7525 22.318125 \nL 432.3425 22.318125 \nL 432.3425 23.379844 \nL 432.3425 293.056406 \nL 432.3425 294.118125 \nz\n\" style=\"fill:none;\"/>\n   </g>\n  </g>\n </g>\n <defs>\n  <clipPath id=\"pab1797a385\">\n   <rect height=\"271.8\" width=\"357.12\" x=\"39.3125\" y=\"22.318125\"/>\n  </clipPath>\n  <clipPath id=\"p9ed34deee7\">\n   <rect height=\"271.8\" width=\"13.59\" x=\"418.7525\" y=\"22.318125\"/>\n  </clipPath>\n </defs>\n</svg>\n",
      "image/png": "[encoded data removed]"
     },
     "metadata": {}
    }
   ],
   "source": [
    "#from sklearn import metrics\n",
    "\n",
    "\n",
    "y_pred = pipe.predict(X_test)\n",
    "\n",
    "MyshowAllScores(y_test,y_pred)\n"
   ]
  },
  {
   "cell_type": "markdown",
   "id": "interesting-western",
   "metadata": {},
   "source": [
    "### Tester la crosse validation "
   ]
  },
  {
   "cell_type": "code",
   "execution_count": 9,
   "id": "hourly-engineer",
   "metadata": {
    "ExecuteTime": {
     "end_time": "2021-04-24T13:53:45.142879Z",
     "start_time": "2021-04-24T13:44:09.881343Z"
    },
    "run_control": {
     "marked": false
    }
   },
   "outputs": [
    {
     "output_type": "stream",
     "name": "stdout",
     "text": [
      "Les différentes accuracy pour les 10 évaluations sont [0.73029046 0.72337483 0.70519031 0.71349481 0.71626298 0.70865052\n 0.72525952 0.74048443 0.72041522 0.71072664] \n\nAccuracy moyenne :  0.7194149712606546  standard deviation 0.01025535323307757\n"
     ]
    }
   ],
   "source": [
    "from sklearn.model_selection import KFold\n",
    "from sklearn.model_selection import cross_val_score\n",
    "seed=7\n",
    "k_fold = KFold(n_splits=10, shuffle=True, random_state=seed)\n",
    "\n",
    "\n",
    "scoring = 'accuracy'\n",
    "\n",
    "\n",
    "score = cross_val_score(pipe, X, y, cv=k_fold, scoring=scoring)\n",
    "print('Les différentes accuracy pour les 10 évaluations sont',score,'\\n')\n",
    "print ('Accuracy moyenne : ',score.mean(),' standard deviation', score.std())   "
   ]
  },
  {
   "cell_type": "markdown",
   "id": "thrown-vegetable",
   "metadata": {},
   "source": [
    "### Tester l'accuracy de plusieurs classifieur "
   ]
  },
  {
   "cell_type": "markdown",
   "id": "hazardous-founder",
   "metadata": {},
   "source": [
    "paramétrage par defaut des classifieurs "
   ]
  },
  {
   "cell_type": "code",
   "execution_count": 19,
   "id": "artificial-species",
   "metadata": {
    "ExecuteTime": {
     "end_time": "2021-04-24T15:00:21.426793Z",
     "start_time": "2021-04-24T14:58:24.230651Z"
    },
    "code_folding": [],
    "run_control": {
     "marked": false
    }
   },
   "outputs": [
    {
     "name": "stdout",
     "output_type": "stream",
     "text": [
      "(14452,)\n",
      "(14452, 19147)\n",
      "(14452, 19147)\n",
      "ADB\n",
      "scores: 0.6941176470588235\n",
      "GBC\n",
      "scores: 0.6948096885813149\n",
      "RFC\n",
      "scores: 0.6918108419838523\n",
      "KNC\n",
      "scores: 0.6620530565167244\n",
      "SVC\n",
      "scores: 0.696885813148789\n",
      "logisticRegression\n",
      "scores: 0.6975778546712803\n"
     ]
    }
   ],
   "source": [
    "from sklearn.ensemble import AdaBoostClassifier\n",
    "from sklearn.ensemble import GradientBoostingClassifier\n",
    "from sklearn.ensemble import RandomForestClassifier\n",
    "from sklearn.neighbors import KNeighborsClassifier\n",
    "from sklearn.svm import SVC\n",
    "from sklearn.model_selection import GridSearchCV\n",
    "from sklearn.linear_model import LogisticRegression\n",
    "from sklearn.metrics import accuracy_score, log_loss\n",
    "from sklearn.feature_extraction.text import CountVectorizer\n",
    "from sklearn.feature_extraction.text import TfidfTransformer\n",
    "\n",
    "# selection des données\n",
    "X=dfVF.text\n",
    "y=dfVF.truthRating\n",
    "\n",
    "count_vect = CountVectorizer()\n",
    "datatarget = dfVF['truthRating']\n",
    "\n",
    "print(datatarget.shape)\n",
    "\n",
    "X_train_counts = count_vect.fit_transform(dfVF.text)\n",
    "print(X_train_counts.shape)\n",
    "\n",
    "tf_transformer = TfidfTransformer(use_idf=True).fit(X_train_counts)\n",
    "X_train_tf = tf_transformer.transform(X_train_counts)\n",
    "print(X_train_tf.shape)\n",
    "\n",
    "validation_size=0.3 #30% du jeu de données pour le test\n",
    "testsize= 1-validation_size\n",
    "seed=30\n",
    "\n",
    "X_train,X_test,y_train,y_test=train_test_split(X_train_tf, \n",
    "                                               datatarget, \n",
    "                                               train_size=validation_size, \n",
    "                                               random_state=seed,\n",
    "                                               test_size=testsize)\n",
    "\n",
    "seed=7\n",
    "models = [\n",
    "            'ADB',\n",
    "            'GBC',\n",
    "            'RFC',\n",
    "            'KNC',\n",
    "            'SVC',\n",
    "            'logisticRegression'\n",
    "         ]\n",
    "clfs = [\n",
    "        AdaBoostClassifier(random_state=seed),\n",
    "        GradientBoostingClassifier(random_state=seed),\n",
    "        RandomForestClassifier(random_state=seed,n_jobs=-1),\n",
    "        KNeighborsClassifier(n_jobs=-1),\n",
    "        SVC(random_state=seed,probability=True),\n",
    "        LogisticRegression(solver='lbfgs',max_iter = 20000)\n",
    "        ]\n",
    "\n",
    "params = {\n",
    "            models[0]:{},\n",
    "    \n",
    "            models[1]:{},\n",
    "    \n",
    "            models[2]:{},\n",
    "    \n",
    "            models[3]:{},\n",
    "    \n",
    "            models[4]:{},\n",
    "    \n",
    "            models[5]:{}\n",
    "         }\n",
    "\n",
    "y_test = 0\n",
    "test_scores = []\n",
    "\n",
    "\n",
    "for name, estimator in zip(models,clfs):\n",
    "    print(name)\n",
    "    clf = GridSearchCV(estimator, params[name], scoring='accuracy',\n",
    "                       refit='True', n_jobs=-1, cv=5)\n",
    "    clf.fit(X_train, y_train)\n",
    "\n",
    "    \n",
    "    print(\"scores: \" + str(clf.best_score_))\n",
    "    estimates = clf.predict_proba(X_test)\n",
    "    "
   ]
  },
  {
   "cell_type": "code",
   "execution_count": 13,
   "id": "flush-delay",
   "metadata": {
    "ExecuteTime": {
     "end_time": "2021-04-24T20:52:31.742654Z",
     "start_time": "2021-04-24T20:50:54.729466Z"
    }
   },
   "outputs": [
    {
     "name": "stdout",
     "output_type": "stream",
     "text": [
      "(14452,)\n",
      "(14452, 12623)\n",
      "(14452, 12623)\n",
      "ADB\n",
      "scores: 0.683275663206459\n",
      "GBC\n",
      "scores: 0.6853517877739331\n",
      "RFC\n",
      "scores: 0.673125720876586\n",
      "KNC\n",
      "scores: 0.6096885813148789\n",
      "SVC\n",
      "scores: 0.6878892733564014\n",
      "logisticRegression\n",
      "scores: 0.6934256055363323\n"
     ]
    }
   ],
   "source": [
    "from sklearn.ensemble import AdaBoostClassifier\n",
    "from sklearn.ensemble import GradientBoostingClassifier\n",
    "from sklearn.ensemble import RandomForestClassifier\n",
    "from sklearn.neighbors import KNeighborsClassifier\n",
    "from sklearn.svm import SVC\n",
    "from sklearn.model_selection import GridSearchCV\n",
    "from sklearn.linear_model import LogisticRegression\n",
    "from sklearn.metrics import accuracy_score, log_loss\n",
    "from sklearn.feature_extraction.text import CountVectorizer\n",
    "from sklearn.feature_extraction.text import TfidfTransformer\n",
    "\n",
    "\n",
    "text_normalizer=TextNormalizer(lowercase=True,\n",
    "                               removestopwords=True,\n",
    "                               removedigit=True,\n",
    "                              getstemmer=True)  \n",
    "# d'appliquer fit.transform pour appliquer les pré-traitements\n",
    "dfVF.text=text_normalizer.fit_transform(dfVF.text)\n",
    "# selection des données\n",
    "X=dfVF.text\n",
    "y=dfVF.truthRating\n",
    "\n",
    "count_vect = CountVectorizer()\n",
    "datatarget = dfVF['truthRating']\n",
    "\n",
    "print(datatarget.shape)\n",
    "\n",
    "X_train_counts = count_vect.fit_transform(dfVF.text)\n",
    "print(X_train_counts.shape)\n",
    "\n",
    "tf_transformer = TfidfTransformer(use_idf=True).fit(X_train_counts)\n",
    "X_train_tf = tf_transformer.transform(X_train_counts)\n",
    "print(X_train_tf.shape)\n",
    "\n",
    "validation_size=0.3 #30% du jeu de données pour le test\n",
    "testsize= 1-validation_size\n",
    "seed=30\n",
    "\n",
    "X_train,X_test,y_train,y_test=train_test_split(X_train_tf, \n",
    "                                               datatarget, \n",
    "                                               train_size=validation_size, \n",
    "                                               random_state=seed,\n",
    "                                               test_size=testsize)\n",
    "\n",
    "seed=7\n",
    "models = [\n",
    "            'ADB',\n",
    "            'GBC',\n",
    "            'RFC',\n",
    "            'KNC',\n",
    "            'SVC',\n",
    "            'logisticRegression'\n",
    "         ]\n",
    "clfs = [\n",
    "        AdaBoostClassifier(random_state=seed),\n",
    "        GradientBoostingClassifier(random_state=seed),\n",
    "        RandomForestClassifier(random_state=seed,n_jobs=-1),\n",
    "        KNeighborsClassifier(n_jobs=-1),\n",
    "        SVC(random_state=seed,probability=True),\n",
    "        LogisticRegression(solver='lbfgs',max_iter = 20000)\n",
    "        ]\n",
    "\n",
    "params = {\n",
    "            models[0]:{},\n",
    "    \n",
    "            models[1]:{},\n",
    "    \n",
    "            models[2]:{},\n",
    "    \n",
    "            models[3]:{},\n",
    "    \n",
    "            models[4]:{},\n",
    "    \n",
    "            models[5]:{}\n",
    "         }\n",
    "\n",
    "y_test = 0\n",
    "test_scores = []\n",
    "\n",
    "\n",
    "for name, estimator in zip(models,clfs):\n",
    "    print(name)\n",
    "    clf = GridSearchCV(estimator, params[name], scoring='accuracy',\n",
    "                       refit='True', n_jobs=-1, cv=5)\n",
    "    clf.fit(X_train, y_train)\n",
    "\n",
    "    \n",
    "    print(\"scores: \" + str(clf.best_score_))\n",
    "    estimates = clf.predict_proba(X_test)\n",
    "    "
   ]
  },
  {
   "cell_type": "markdown",
   "id": "normal-label",
   "metadata": {
    "ExecuteTime": {
     "end_time": "2021-04-22T18:05:05.109349Z",
     "start_time": "2021-04-22T18:05:05.104472Z"
    }
   },
   "source": [
    "## Tache 2 : VRAIS, FAUX / MIXTURE"
   ]
  },
  {
   "cell_type": "markdown",
   "id": "lucky-marathon",
   "metadata": {},
   "source": [
    "## Tache 3 : VRAIS / FAUX / MIXTURE"
   ]
  }
 ],
 "metadata": {
  "kernelspec": {
   "name": "python388jvsc74a57bd08734f3cf391c533bd38bf221f0a4cbd53694ca9888f3d69b7de74b4ec0b7ed09",
   "display_name": "Python 3.8.8 64-bit ('HMIN232M': conda)"
  },
  "language_info": {
   "codemirror_mode": {
    "name": "ipython",
    "version": 3
   },
   "file_extension": ".py",
   "mimetype": "text/x-python",
   "name": "python",
   "nbconvert_exporter": "python",
   "pygments_lexer": "ipython3",
   "version": "3.8.8-final"
  },
  "metadata": {
   "interpreter": {
    "hash": "8734f3cf391c533bd38bf221f0a4cbd53694ca9888f3d69b7de74b4ec0b7ed09"
   }
  }
 },
 "nbformat": 4,
 "nbformat_minor": 5
}